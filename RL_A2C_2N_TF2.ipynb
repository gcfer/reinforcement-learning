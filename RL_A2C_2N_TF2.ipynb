{
  "nbformat": 4,
  "nbformat_minor": 0,
  "metadata": {
    "colab": {
      "name": "RL_A2C_2N_TF2.ipynb",
      "provenance": [],
      "include_colab_link": true
    },
    "kernelspec": {
      "name": "python3",
      "display_name": "Python 3"
    },
    "accelerator": "GPU"
  },
  "cells": [
    {
      "cell_type": "markdown",
      "metadata": {
        "id": "view-in-github",
        "colab_type": "text"
      },
      "source": [
        "<a href=\"https://colab.research.google.com/github/gcfer/reinforcement-learning/blob/main/RL_A2C_2N_TF2.ipynb\" target=\"_parent\"><img src=\"https://colab.research.google.com/assets/colab-badge.svg\" alt=\"Open In Colab\"/></a>"
      ]
    },
    {
      "cell_type": "markdown",
      "metadata": {
        "id": "C5ya9Hh00H6m"
      },
      "source": [
        "# Reinforcement Learning: A2C (Actor-Critic Method) — Two Networks"
      ]
    },
    {
      "cell_type": "markdown",
      "metadata": {
        "id": "3uI-VqIN07Y0"
      },
      "source": [
        "## Overview"
      ]
    },
    {
      "cell_type": "markdown",
      "metadata": {
        "id": "6qCmJXNc1HHQ"
      },
      "source": [
        "In this notebook, we'll cover the actor-critic framework and implement `A2C`, a state-of-the-art actor-critic algorithm. We'll test it by solving the cartpole problem in the Open AI gym. "
      ]
    },
    {
      "cell_type": "code",
      "metadata": {
        "id": "qs1lM6hc1tZT",
        "colab": {
          "base_uri": "https://localhost:8080/",
          "height": 52
        },
        "outputId": "ccddd0a2-b849-438c-ec95-30ee1ac92e23"
      },
      "source": [
        "import numpy as np\n",
        "import pandas as pd\n",
        "import datetime\n",
        "\n",
        "# Import tensorflow\n",
        "#!pip install tensorflow-gpu==1.14.0 > /dev/null 2>&1\n",
        "import tensorflow as tf\n",
        "import tensorflow.keras as K\n",
        "print(tf.__version__)\n",
        "\n",
        "# Check that tf sees the GPU\n",
        "device_name = tf.test.gpu_device_name()\n",
        "print(device_name)\n",
        "\n",
        "# Import libraries for plotting\n",
        "import matplotlib as mpl\n",
        "import matplotlib.pyplot as plt\n",
        "plt.style.use('seaborn-pastel')\n",
        "\n",
        "%matplotlib inline\n",
        "%config InlineBackend.figure_format = 'retina'  # this makes plot in high res"
      ],
      "execution_count": null,
      "outputs": [
        {
          "output_type": "stream",
          "text": [
            "2.3.0\n",
            "/device:GPU:0\n"
          ],
          "name": "stdout"
        }
      ]
    },
    {
      "cell_type": "markdown",
      "metadata": {
        "id": "CdINAMAt5Mhx"
      },
      "source": [
        "Since we are in a remote notebook, we cannot display the progress of the environment in real time. Instead, we store the renderings and show a video at the end of the episode (refer to [this](https://star-ai.github.io/Rendering-OpenAi-Gym-in-Colaboratory/) guide in case you need it). The only advice that I can give is to import `gym` _after_ the update below."
      ]
    },
    {
      "cell_type": "code",
      "metadata": {
        "id": "5hLErsLfvsCp"
      },
      "source": [
        "#remove \" > /dev/null 2>&1\" to see what is going on under the hood\n",
        "!pip install gym pyvirtualdisplay > /dev/null 2>&1\n",
        "!apt-get install -y xvfb python-opengl ffmpeg > /dev/null 2>&1"
      ],
      "execution_count": null,
      "outputs": []
    },
    {
      "cell_type": "code",
      "metadata": {
        "id": "7gLvAnEHEYNK"
      },
      "source": [
        "# Maybe\n",
        "# !apt-get update > /dev/null 2>&1\n",
        "# !apt-get install cmake > /dev/null 2>&1\n",
        "# !pip install --upgrade setuptools 2>&1\n",
        "# !pip install ez_setup > /dev/null 2>&1\n",
        "# !pip install gym[atari] > /dev/null 2>&1"
      ],
      "execution_count": null,
      "outputs": []
    },
    {
      "cell_type": "code",
      "metadata": {
        "id": "r1_T5XRy76Fc"
      },
      "source": [
        "# Open AI gym\n",
        "import gym \n",
        "from gym import logger as gymlogger\n",
        "from gym.wrappers import Monitor\n",
        "gymlogger.set_level(40) #error only\n",
        "import math\n",
        "import random\n",
        "import glob\n",
        "import io\n",
        "import base64\n",
        "from IPython.display import HTML\n",
        "from IPython import display as ipythondisplay"
      ],
      "execution_count": null,
      "outputs": []
    },
    {
      "cell_type": "code",
      "metadata": {
        "id": "7eKBRmhhTKMg",
        "colab": {
          "base_uri": "https://localhost:8080/",
          "height": 34
        },
        "outputId": "4e89d3d8-4a92-4074-afe2-212a6eb825b0"
      },
      "source": [
        "from pyvirtualdisplay import Display\n",
        "display = Display(visible=0, size=(2880, 1800))\n",
        "display.start()"
      ],
      "execution_count": null,
      "outputs": [
        {
          "output_type": "execute_result",
          "data": {
            "text/plain": [
              "<pyvirtualdisplay.display.Display at 0x7f182e144710>"
            ]
          },
          "metadata": {
            "tags": []
          },
          "execution_count": 5
        }
      ]
    },
    {
      "cell_type": "markdown",
      "metadata": {
        "id": "DjJTzesPaXhZ"
      },
      "source": [
        "The function below is needed to display the video. I slightly modified it from the original one (that you can in the guide I linked above) to avoid the infinite repetition loop of the video."
      ]
    },
    {
      "cell_type": "code",
      "metadata": {
        "id": "8iYHI6Y0TOqW"
      },
      "source": [
        "\"\"\"\n",
        "Utility functions to enable video recording of gym environment and displaying it\n",
        "To enable video, just do \"env = wrap_env(env)\"\"\n",
        "\"\"\"\n",
        "\n",
        "def show_video():\n",
        "  mp4list = glob.glob('video/*.mp4')\n",
        "  if len(mp4list) > 0:\n",
        "    mp4 = mp4list[0]\n",
        "    video = io.open(mp4, 'r+b').read()\n",
        "    encoded = base64.b64encode(video)\n",
        "    ipythondisplay.display(HTML(data='''<video alt=\"test\" autoplay \n",
        "                loop controls style=\"height: 400px;\">\n",
        "                <source src=\"data:video/mp4;base64,{0}\" type=\"video/mp4\" />\n",
        "             </video>'''.format(encoded.decode('ascii'))))\n",
        "  else: \n",
        "    print(\"Could not find video\")\n",
        "    \n",
        "\n",
        "def wrap_env(env):\n",
        "  env = Monitor(env, './video', force=True)\n",
        "  return env"
      ],
      "execution_count": null,
      "outputs": []
    },
    {
      "cell_type": "markdown",
      "metadata": {
        "id": "TmcRO58V082j"
      },
      "source": [
        "## OpenAI Gym Cartpole"
      ]
    },
    {
      "cell_type": "markdown",
      "metadata": {
        "id": "tSUaokAx1res"
      },
      "source": [
        "The Cartpole problem is a discrete control problem where we try to keep the pole vertical by moving the cart below it. \n",
        "\n",
        "Upon loading the environment, we launch a simulation where the agent chooses at random from the action sample space the next action. Finally, we show the video of the result. What happens is that the problem is considered unsolved (= game over) if the angle between pole and the line orthogonal to the cart axis is larger than a threshold. The parameter `done` specifies when the experiment is over."
      ]
    },
    {
      "cell_type": "code",
      "metadata": {
        "id": "p-MSpyS91rJ1"
      },
      "source": [
        "# Load the environment and start\n",
        "env = wrap_env(gym.make(\"CartPole-v0\"))"
      ],
      "execution_count": null,
      "outputs": []
    },
    {
      "cell_type": "code",
      "metadata": {
        "id": "30567suH547l"
      },
      "source": [
        "observation = env.reset()\n",
        "\n",
        "while True:\n",
        "  \n",
        "    env.render()\n",
        "    \n",
        "    action = env.action_space.sample() \n",
        "         \n",
        "    observation, reward, done, info = env.step(action) \n",
        "   \n",
        "    if done: \n",
        "      break;\n",
        "            \n",
        "env.close()"
      ],
      "execution_count": null,
      "outputs": []
    },
    {
      "cell_type": "code",
      "metadata": {
        "id": "GdRbmthjFCRm",
        "colab": {
          "base_uri": "https://localhost:8080/",
          "height": 420
        },
        "outputId": "bd92a555-ee38-44bd-f6be-c69aa97fa809"
      },
      "source": [
        "show_video()"
      ],
      "execution_count": null,
      "outputs": [
        {
          "output_type": "display_data",
          "data": {
            "text/html": [
              "<video alt=\"test\" autoplay \n",
              "                loop controls style=\"height: 400px;\">\n",
              "                <source src=\"data:video/mp4;base64,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\" type=\"video/mp4\" />\n",
              "             </video>"
            ],
            "text/plain": [
              "<IPython.core.display.HTML object>"
            ]
          },
          "metadata": {
            "tags": []
          }
        }
      ]
    },
    {
      "cell_type": "markdown",
      "metadata": {
        "id": "nEzb9PZkzTt8"
      },
      "source": [
        "To better understand the inputs and outputs of the environment, let consider the action space and the observation space."
      ]
    },
    {
      "cell_type": "markdown",
      "metadata": {
        "id": "ZNlZX6u4zjwj"
      },
      "source": [
        "The action space is of type `Discrete(n)` where `n` is the number of actions. This is equivalent to the discrete set $\\{ 0, 1, 2, \\dotsc, n-1 \\}$."
      ]
    },
    {
      "cell_type": "code",
      "metadata": {
        "id": "zdgSbUzSzdPr",
        "colab": {
          "base_uri": "https://localhost:8080/",
          "height": 34
        },
        "outputId": "ed36f4ec-1357-4672-fdb8-1560facc07d2"
      },
      "source": [
        "env.action_space"
      ],
      "execution_count": null,
      "outputs": [
        {
          "output_type": "execute_result",
          "data": {
            "text/plain": [
              "Discrete(2)"
            ]
          },
          "metadata": {
            "tags": []
          },
          "execution_count": 10
        }
      ]
    },
    {
      "cell_type": "markdown",
      "metadata": {
        "id": "0YpIgO8Hz0--"
      },
      "source": [
        "The observation space is of type `Box(n)`, which means that it is the Cartesian product of `n` intervals."
      ]
    },
    {
      "cell_type": "code",
      "metadata": {
        "id": "elLLObLuzgoa",
        "colab": {
          "base_uri": "https://localhost:8080/",
          "height": 34
        },
        "outputId": "df4e3816-7479-40eb-ed74-0aa1aefb57bc"
      },
      "source": [
        "env.observation_space"
      ],
      "execution_count": null,
      "outputs": [
        {
          "output_type": "execute_result",
          "data": {
            "text/plain": [
              "Box(4,)"
            ]
          },
          "metadata": {
            "tags": []
          },
          "execution_count": 11
        }
      ]
    },
    {
      "cell_type": "code",
      "metadata": {
        "id": "Yom-orP80AUU",
        "colab": {
          "base_uri": "https://localhost:8080/",
          "height": 87
        },
        "outputId": "286eb3b7-b562-4c09-a8ad-41099608d4b0"
      },
      "source": [
        "[env.observation_space.low, env.observation_space.high]"
      ],
      "execution_count": null,
      "outputs": [
        {
          "output_type": "execute_result",
          "data": {
            "text/plain": [
              "[array([-4.8000002e+00, -3.4028235e+38, -4.1887903e-01, -3.4028235e+38],\n",
              "       dtype=float32),\n",
              " array([4.8000002e+00, 3.4028235e+38, 4.1887903e-01, 3.4028235e+38],\n",
              "       dtype=float32)]"
            ]
          },
          "metadata": {
            "tags": []
          },
          "execution_count": 12
        }
      ]
    },
    {
      "cell_type": "markdown",
      "metadata": {
        "id": "AUmxgfLF0dYK"
      },
      "source": [
        "When we make a step in the environment, the feedback that we get includes the observation:"
      ]
    },
    {
      "cell_type": "code",
      "metadata": {
        "id": "DGJOQdmc09kT",
        "colab": {
          "base_uri": "https://localhost:8080/",
          "height": 34
        },
        "outputId": "30280fda-f24c-4576-cc40-bf20e160c021"
      },
      "source": [
        "#env = gym.make('CartPole-v0')\n",
        "# env = Monitor(env, './video', force=True)\n",
        "env.reset()\n",
        "\n",
        "obs, r, done, _ = env.step(0)\n",
        "print(obs)"
      ],
      "execution_count": null,
      "outputs": [
        {
          "output_type": "stream",
          "text": [
            "[ 0.00978377 -0.2103974  -0.0444823   0.26758958]\n"
          ],
          "name": "stdout"
        }
      ]
    },
    {
      "cell_type": "markdown",
      "metadata": {
        "id": "BZeWmTZf1Emo"
      },
      "source": [
        "## Actor-Critic Algorithms\n",
        "\n",
        "Actor-critic algorithms are policy gradient algorithms where the actor is driven by the value- or Q-function estimated by the critic. The role of the actor is to find the policy according to the policy gradient method. The role of the critic is to discover the value- or Q-function, and feed back the information about “how good” the action taken in the current state was. \n",
        "\n",
        "In policy gradient algorithms, the policy is updated on the basis of the discouted reward that is experienced. Let us recall that the policy $\\pi_\\theta$ is fit such that \n",
        "$$ \\theta^* = \\arg\\max_\\theta \\mathbf{E}\\!\\left[R(\\tau)\\sum_{t=0}^T \\log \\pi_\\theta(a_t|s_t)\\right] $$\n",
        "where\n",
        "$$ R(\\tau) =\\sum_{t=0}^T\\gamma^t r(s_t,a_t) $$\n",
        "and $\\tau=(s_0, a_0, r_0, \\cdots, s_{T}, a_{T}, r_{T})$.\n",
        "\n",
        "In practice, we fit the network so as to minimize the loss\n",
        "\n",
        "$$  L(\\tau) = - \\sum_{t=0}^T R(\\tau_{t}) \\log (\\pi_\\theta(a_t)), $$\n",
        "\n",
        "where $\\tau_t=(s_t, a_t, r_t, \\cdots, s_{T}, a_{T}, r_{T})$, at the end of each episode, and repeat the process over many episodes. We also know that, instead of using $R$, we can use a modified pre-log factor so as to reduce the variance in the learning process. This is accomplished through baselines, that is some function $b(s_t)$ that is removed from $R$:\n",
        "\n",
        "$$  L(\\tau) = - \\sum_{t=0}^T [R(\\tau_{t})-b(s_t)] \\log (\\pi_\\theta(a_t)). $$\n",
        "\n",
        "The fundamental problem with this approach is that the actor just tries actions and waits to see the reward at the end of the episode. This is equivalent to perfoming a task and by trial and error learning what to do better next time. \n",
        "\n",
        "It would be much better if, while performing the task, we could receive a feedback. The critic network is then introduced to do exactly that. How does the critic performs the critics though? It implements a DQN to find the Q-function or, in a simpler version, the value function. \n",
        "\n",
        "In other words, this is equivalent to having a teacher, but the teacher is learning while teaching. It is intuitive then that the critic needs to learn sooner than the actor how to perform its task, and so we'll set the learning rate of the critic larger than the one of the actor.\n",
        "\n",
        "What the critic does is to infer the value function, which is $V(s_t)=\\mathbf{E}[R(s_t)]$ with the best policy. Suppose the critic converges and learns it. Then we can set the value function as the baseline, $b(s):=V(s)$. The resulting pre-log factor,\n",
        "\n",
        "$$  L(\\tau) = - \\sum_{t=0}^T A(\\tau_{t}) \\log (\\pi_\\theta(a_t)), $$\n",
        "\n",
        "is called advantage. This is why `A2C` is called advantage actor critic.\n",
        "\n",
        "\n"
      ]
    },
    {
      "cell_type": "code",
      "metadata": {
        "id": "2RtbkBQe7vs5"
      },
      "source": [
        "# A2C - Two networks\n",
        "class A2C_2N:\n",
        "  \n",
        "  def __init__(self, state_size, action_size, gamma=None, max_steps=None):\n",
        "    # max_steps is the maximum number of batches [s, a, r, s_] or epochs remembered\n",
        "    \n",
        "    # Parameters\n",
        "    self.state_size = state_size\n",
        "    self.action_size = action_size\n",
        "    \n",
        "    self.memory = list()\n",
        "    if gamma is None: \n",
        "      self.gamma = 0.99\n",
        "    else: \n",
        "      self.gamma = gamma\n",
        "    \n",
        "    if max_steps is None:\n",
        "      self.max_steps = 200 \n",
        "    else:\n",
        "      self.max_steps = max_steps\n",
        "\n",
        "    # learning rates\n",
        "    self.actor_lr = 0.0008\n",
        "    self.critic_lr = 0.0025\n",
        "\n",
        "    # actor network\n",
        "    self.actor = self.build_actor()\n",
        "\n",
        "    # critic network\n",
        "    self.critic = self.build_critic()\n",
        "\n",
        "  def remember(self, s, a, r, s_, done):\n",
        "    self.memory.append([s, a, r, s_, done])\n",
        "    if len(self.memory) > self.max_steps: # if too long\n",
        "      self.memory.pop(0) # forget the oldest\n",
        "  \n",
        "  def forget(self):\n",
        "    self.memory = list()\n",
        "\n",
        "  # actor learns the policy: input is state; output is distribution over actions (policy)\n",
        "  def build_actor(self, n_hidden_1=None, n_hidden_2=None):\n",
        "        \n",
        "    if n_hidden_1 == None:\n",
        "      n_hidden_1 = 6 * self.state_size\n",
        "      \n",
        "    if n_hidden_2 == None:\n",
        "      n_hidden_2 = 6 * self.state_size\n",
        "\n",
        "    model = K.Sequential()\n",
        "    model.add(K.layers.Dense(n_hidden_1, activation=tf.nn.elu, input_dim=self.state_size))  # first hidden layer\n",
        "    model.add(K.layers.Dense(n_hidden_2, activation=tf.nn.elu))\n",
        "    model.add(K.layers.Dense(self.action_size, activation='softmax'))  # output\n",
        "    \n",
        "    # loss is categorical_crossentropy since pi_theta (vector) should be equal to one-hot action (vector) eventually\n",
        "    # because there is always a best action to be taken\n",
        "    model.compile(optimizer=K.optimizers.RMSprop(lr=self.actor_lr), loss='categorical_crossentropy') \n",
        "    \n",
        "    return model\n",
        "\n",
        "  # critic network\n",
        "  def build_critic(self, n_hidden_1=None, n_hidden_2=None):\n",
        "        \n",
        "    if n_hidden_1 == None:\n",
        "      n_hidden_1 = 6 * self.state_size\n",
        "      \n",
        "    if n_hidden_2 == None:\n",
        "      n_hidden_2 = 6 * self.state_size\n",
        "\n",
        "    model = K.Sequential()\n",
        "    model.add(K.layers.Dense(n_hidden_1, activation=tf.nn.elu, input_dim=self.state_size))  # first hidden layer\n",
        "    model.add(K.layers.Dense(n_hidden_2, activation=tf.nn.elu))\n",
        "    model.add(K.layers.Dense(1, activation=tf.nn.elu))  # output\n",
        "    \n",
        "    model.compile(optimizer=K.optimizers.Adam(lr=self.critic_lr), loss='mse') \n",
        "    \n",
        "    return model\n",
        "\n",
        "  # actor implements policy gradient\n",
        "  def policy(self, s):\n",
        "    policy = self.actor.predict(s, batch_size=1).flatten()\n",
        "    a = np.random.choice(self.action_size, 1, p=policy)[0]\n",
        "    return a\n",
        "\n",
        "  # learn from memory\n",
        "  def learn(self):\n",
        "\n",
        "    # replay the entire episode\n",
        "    s, a, r, s_, done = zip(*self.memory)\n",
        "    a = np.reshape(a, (-1, 1))\n",
        "    \n",
        "    T = a.shape[0] # epochs in memory\n",
        "    a_one_hot = np.zeros((T, self.action_size))\n",
        "    a_one_hot[np.arange(T), a.reshape(-1)] = 1   # size: T x action_size\n",
        "    s = np.concatenate(s) # or np.vstack(s)   \n",
        "    target_actor = a_one_hot # actions\n",
        "    \n",
        "    cum_reward = np.cumsum((self.gamma ** np.arange(0, T)) * r)/(self.gamma ** np.arange(0, T))\n",
        "    R = np.flip(cum_reward).reshape(-1, 1)\n",
        "    v = self.critic.predict(s)\n",
        "    A = R - v  # theoretical advantage (infinite-horizon problems)\n",
        "    # s_ = np.concatenate(s_)\n",
        "    # v_ = self.critic.predict(s_)\n",
        "    # r = np.reshape(r, (-1, 1))\n",
        "    # A = r + self.gamma * v_ - v  # advantage (same as above but works better in finite-horizon problems)\n",
        "\n",
        "    self.actor.fit(s, target_actor, sample_weight=A, epochs=1, verbose=0)  # uses advantages\n",
        "    self.critic.fit(s, R, epochs=1, verbose=0)  # trained to get the value function "
      ],
      "execution_count": null,
      "outputs": []
    },
    {
      "cell_type": "markdown",
      "metadata": {
        "id": "rNfRziCSs1EI"
      },
      "source": [
        "## Training\n",
        "\n"
      ]
    },
    {
      "cell_type": "code",
      "metadata": {
        "id": "ce3eDMZ0svdS"
      },
      "source": [
        "seed = 0\n",
        "np.random.seed(seed)\n",
        "tf.random.set_seed(seed)\n",
        "\n",
        "# Restart environment\n",
        "# env = Monitor(env, './video', force=True)\n",
        "MAX_REWARD = 200\n",
        "env._max_episode_steps = MAX_REWARD\n",
        "\n",
        "# Parameters\n",
        "n_episodes = 350\n",
        "winning_streak = 10  # after this number of successive successes, training stops\n",
        "reward_history = np.zeros(n_episodes)\n",
        "gamma = 0.99\n",
        "steps_in_memory = 200  # number of steps to remember\n",
        "\n",
        "A = np.arange(env.action_space.n)\n",
        "dim_state_space = env.observation_space.shape[0]\n",
        "\n",
        "# Start training\n",
        "agent = A2C_2N(dim_state_space, env.action_space.n, gamma, steps_in_memory)\n",
        "\n",
        "# init\n",
        "s = env.reset()\n",
        "s = np.reshape(s, [1, dim_state_space])\n",
        "\n",
        "template = \"\\rEpisode: {:3d}/{:3d} | Reward: {:3.0f} | Duration: {:.2f} s\""
      ],
      "execution_count": null,
      "outputs": []
    },
    {
      "cell_type": "code",
      "metadata": {
        "id": "YSIbA89m2X-k",
        "colab": {
          "base_uri": "https://localhost:8080/",
          "height": 34
        },
        "outputId": "0ddb8fe9-e6ef-4337-f0ab-71ec498ee7b0"
      },
      "source": [
        "for e in range(n_episodes):\n",
        "  start_time = datetime.datetime.now()\n",
        "\n",
        "  s = env.reset()\n",
        "  s = np.reshape(s, [1, dim_state_space])\n",
        "  \n",
        "  done = False\n",
        "  cum_reward = 0\n",
        "  \n",
        "  while not done:\n",
        "    a = agent.policy(s)\n",
        "    s_, r, done, _ = env.step(a)\n",
        "    s_ = np.reshape(s_, [1, dim_state_space])\n",
        "    agent.remember(s, a, r, s_, done)\n",
        "    cum_reward += r\n",
        "    s = s_\n",
        "    \n",
        "  agent.learn()\n",
        "  agent.forget()\n",
        "  \n",
        "  dt = datetime.datetime.now() - start_time\n",
        "  print(template.format(e+1, n_episodes, cum_reward, dt.total_seconds()), end='')\n",
        "  \n",
        "  reward_history[e] = cum_reward"
      ],
      "execution_count": null,
      "outputs": [
        {
          "output_type": "stream",
          "text": [
            "Episode: 350/350 | Reward: 200 | Duration: 6.82 s"
          ],
          "name": "stdout"
        }
      ]
    },
    {
      "cell_type": "code",
      "metadata": {
        "id": "ffgqpwxbuI7l",
        "colab": {
          "base_uri": "https://localhost:8080/",
          "height": 295
        },
        "outputId": "05aba366-69ba-4023-e940-c66c7a5f4a41"
      },
      "source": [
        "plt.plot(reward_history[0:e], label='Reward')\n",
        "plt.xlabel('Episodes')\n",
        "plt.ylabel('Cumulative reward')\n",
        "plt.tight_layout()\n",
        "plt.show()"
      ],
      "execution_count": null,
      "outputs": [
        {
          "output_type": "display_data",
          "data": {
            "image/png": "[encoded data removed]",
            "text/plain": [
              "<Figure size 432x288 with 1 Axes>"
            ]
          },
          "metadata": {
            "tags": [],
            "image/png": {
              "width": 424,
              "height": 279
            },
            "needs_background": "light"
          }
        }
      ]
    },
    {
      "cell_type": "markdown",
      "metadata": {
        "id": "tTXgVR0P3ih7"
      },
      "source": [
        "## Trying it"
      ]
    },
    {
      "cell_type": "code",
      "metadata": {
        "id": "JpZLmyG3zlH_",
        "colab": {
          "base_uri": "https://localhost:8080/",
          "height": 34
        },
        "outputId": "fcd3b5b6-21b5-46bd-909a-9c02cef47f39"
      },
      "source": [
        "env = wrap_env(gym.make(\"CartPole-v0\"))\n",
        "s = env.reset()\n",
        "s = np.reshape(s, [1, dim_state_space])\n",
        "\n",
        "done = False\n",
        "cum_reward = 0\n",
        "\n",
        "while not done:\n",
        "\n",
        "  env.render()\n",
        "  a = agent.policy(s)\n",
        "  s_, r, done, _ = env.step(a)\n",
        "  s_ = np.reshape(s_, [1, dim_state_space])\n",
        "  agent.remember(s, a, r, s_, done)\n",
        "  cum_reward += r\n",
        "  s = s_\n",
        "\n",
        "env.close()\n",
        "\n",
        "print('We got a reward equal to {:.0f}'.format(cum_reward))"
      ],
      "execution_count": null,
      "outputs": [
        {
          "output_type": "stream",
          "text": [
            "We got a reward equal to 200\n"
          ],
          "name": "stdout"
        }
      ]
    },
    {
      "cell_type": "code",
      "metadata": {
        "id": "kD3eMIxZ4m5g",
        "colab": {
          "base_uri": "https://localhost:8080/",
          "height": 420
        },
        "outputId": "fc84fdb5-5bc8-4234-a5a3-615674d51916"
      },
      "source": [
        "show_video()"
      ],
      "execution_count": null,
      "outputs": [
        {
          "output_type": "display_data",
          "data": {
            "text/html": [
              "<video alt=\"test\" autoplay \n",
              "                loop controls style=\"height: 400px;\">\n",
              "                <source src=\"data:video/mp4;base64,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\" type=\"video/mp4\" />\n",
              "             </video>"
            ],
            "text/plain": [
              "<IPython.core.display.HTML object>"
            ]
          },
          "metadata": {
            "tags": []
          }
        }
      ]
    },
    {
      "cell_type": "code",
      "metadata": {
        "id": "sNjfett54yW1"
      },
      "source": [
        ""
      ],
      "execution_count": null,
      "outputs": []
    }
  ]
}