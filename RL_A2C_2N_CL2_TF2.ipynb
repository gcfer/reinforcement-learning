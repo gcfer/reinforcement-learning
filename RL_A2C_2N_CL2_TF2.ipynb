{
  "nbformat": 4,
  "nbformat_minor": 0,
  "metadata": {
    "colab": {
      "name": "RL_A2C_2N_CL2_TF2.ipynb",
      "provenance": [],
      "include_colab_link": true
    },
    "kernelspec": {
      "name": "python3",
      "display_name": "Python 3"
    },
    "accelerator": "GPU"
  },
  "cells": [
    {
      "cell_type": "markdown",
      "metadata": {
        "id": "view-in-github",
        "colab_type": "text"
      },
      "source": [
        "<a href=\"https://colab.research.google.com/github/gcfer/reinforcement-learning/blob/main/RL_A2C_2N_CL2_TF2.ipynb\" target=\"_parent\"><img src=\"https://colab.research.google.com/assets/colab-badge.svg\" alt=\"Open In Colab\"/></a>"
      ]
    },
    {
      "cell_type": "markdown",
      "metadata": {
        "id": "C5ya9Hh00H6m"
      },
      "source": [
        "# Reinforcement Learning: A2C (Actor-Critic Method) — Two Networks — Custom Loss V2"
      ]
    },
    {
      "cell_type": "markdown",
      "metadata": {
        "id": "3uI-VqIN07Y0"
      },
      "source": [
        "## Overview"
      ]
    },
    {
      "cell_type": "markdown",
      "metadata": {
        "id": "6qCmJXNc1HHQ"
      },
      "source": [
        "In this notebook, we'll cover the actor-critic framework and implement `A2C`, a state-of-the-art actor-critic algorithm. We'll test it by solving the cartpole problem in the Open AI gym. "
      ]
    },
    {
      "cell_type": "code",
      "metadata": {
        "id": "qs1lM6hc1tZT",
        "colab": {
          "base_uri": "https://localhost:8080/",
          "height": 52
        },
        "outputId": "9ca1b680-456c-461b-ef8a-24c3407adc08"
      },
      "source": [
        "import numpy as np\n",
        "import pandas as pd\n",
        "import datetime\n",
        "\n",
        "# Import tensorflow\n",
        "#!pip install tensorflow-gpu==1.14.0 > /dev/null 2>&1\n",
        "import tensorflow as tf\n",
        "import tensorflow.keras as K\n",
        "print(tf.__version__)\n",
        "\n",
        "# Check that tf sees the GPU\n",
        "device_name = tf.test.gpu_device_name()\n",
        "print(device_name)\n",
        "\n",
        "# Import libraries for plotting\n",
        "import matplotlib as mpl\n",
        "import matplotlib.pyplot as plt\n",
        "plt.style.use('seaborn-pastel')\n",
        "\n",
        "%matplotlib inline\n",
        "%config InlineBackend.figure_format = 'retina'  # this makes plot in high res"
      ],
      "execution_count": null,
      "outputs": [
        {
          "output_type": "stream",
          "text": [
            "2.3.0\n",
            "\n"
          ],
          "name": "stdout"
        }
      ]
    },
    {
      "cell_type": "markdown",
      "metadata": {
        "id": "CdINAMAt5Mhx"
      },
      "source": [
        "Since we are in a remote notebook, we cannot display the progress of the environment in real time. Instead, we store the renderings and show a video at the end of the episode (refer to [this](https://star-ai.github.io/Rendering-OpenAi-Gym-in-Colaboratory/) guide in case you need it). The only advice that I can give is to import `gym` _after_ the update below."
      ]
    },
    {
      "cell_type": "code",
      "metadata": {
        "id": "5hLErsLfvsCp"
      },
      "source": [
        "#remove \" > /dev/null 2>&1\" to see what is going on under the hood\n",
        "!pip install gym pyvirtualdisplay > /dev/null 2>&1\n",
        "!apt-get install -y xvfb python-opengl ffmpeg > /dev/null 2>&1"
      ],
      "execution_count": null,
      "outputs": []
    },
    {
      "cell_type": "code",
      "metadata": {
        "id": "7gLvAnEHEYNK"
      },
      "source": [
        "# Maybe\n",
        "# !apt-get update > /dev/null 2>&1\n",
        "# !apt-get install cmake > /dev/null 2>&1\n",
        "# !pip install --upgrade setuptools 2>&1\n",
        "# !pip install ez_setup > /dev/null 2>&1\n",
        "# !pip install gym[atari] > /dev/null 2>&1"
      ],
      "execution_count": null,
      "outputs": []
    },
    {
      "cell_type": "code",
      "metadata": {
        "id": "r1_T5XRy76Fc"
      },
      "source": [
        "# Open AI gym\n",
        "import gym \n",
        "from gym import logger as gymlogger\n",
        "from gym.wrappers import Monitor\n",
        "gymlogger.set_level(40) #error only\n",
        "import math\n",
        "import random\n",
        "import glob\n",
        "import io\n",
        "import base64\n",
        "from IPython.display import HTML\n",
        "from IPython import display as ipythondisplay"
      ],
      "execution_count": null,
      "outputs": []
    },
    {
      "cell_type": "code",
      "metadata": {
        "id": "7eKBRmhhTKMg",
        "colab": {
          "base_uri": "https://localhost:8080/",
          "height": 34
        },
        "outputId": "71a52584-1b55-414f-db4b-ada74026a887"
      },
      "source": [
        "from pyvirtualdisplay import Display\n",
        "display = Display(visible=0, size=(2880, 1800))\n",
        "display.start()"
      ],
      "execution_count": null,
      "outputs": [
        {
          "output_type": "execute_result",
          "data": {
            "text/plain": [
              "<pyvirtualdisplay.display.Display at 0x7f80f58a5cc0>"
            ]
          },
          "metadata": {
            "tags": []
          },
          "execution_count": 5
        }
      ]
    },
    {
      "cell_type": "markdown",
      "metadata": {
        "id": "DjJTzesPaXhZ"
      },
      "source": [
        "The function below is needed to display the video. I slightly modified it from the original one (that you can in the guide I linked above) to avoid the infinite repetition loop of the video."
      ]
    },
    {
      "cell_type": "code",
      "metadata": {
        "id": "8iYHI6Y0TOqW"
      },
      "source": [
        "\"\"\"\n",
        "Utility functions to enable video recording of gym environment and displaying it\n",
        "To enable video, just do \"env = wrap_env(env)\"\"\n",
        "\"\"\"\n",
        "\n",
        "def show_video():\n",
        "  mp4list = glob.glob('video/*.mp4')\n",
        "  if len(mp4list) > 0:\n",
        "    mp4 = mp4list[0]\n",
        "    video = io.open(mp4, 'r+b').read()\n",
        "    encoded = base64.b64encode(video)\n",
        "    ipythondisplay.display(HTML(data='''<video alt=\"test\" autoplay \n",
        "                loop controls style=\"height: 400px;\">\n",
        "                <source src=\"data:video/mp4;base64,{0}\" type=\"video/mp4\" />\n",
        "             </video>'''.format(encoded.decode('ascii'))))\n",
        "  else: \n",
        "    print(\"Could not find video\")\n",
        "    \n",
        "\n",
        "def wrap_env(env):\n",
        "  env = Monitor(env, './video', force=True)\n",
        "  return env"
      ],
      "execution_count": null,
      "outputs": []
    },
    {
      "cell_type": "markdown",
      "metadata": {
        "id": "TmcRO58V082j"
      },
      "source": [
        "## OpenAI Gym Cartpole"
      ]
    },
    {
      "cell_type": "markdown",
      "metadata": {
        "id": "tSUaokAx1res"
      },
      "source": [
        "The Cartpole problem is a discrete control problem where we try to keep the pole vertical by moving the cart below it. \n",
        "\n",
        "Upon loading the environment, we launch a simulation where the agent chooses at random from the action sample space the next action. Finally, we show the video of the result. What happens is that the problem is considered unsolved (= game over) if the angle between pole and the line orthogonal to the cart axis is larger than a threshold. The parameter `done` specifies when the experiment is over."
      ]
    },
    {
      "cell_type": "code",
      "metadata": {
        "id": "p-MSpyS91rJ1"
      },
      "source": [
        "# Load the environment and start\n",
        "env = wrap_env(gym.make(\"CartPole-v0\"))"
      ],
      "execution_count": null,
      "outputs": []
    },
    {
      "cell_type": "code",
      "metadata": {
        "id": "30567suH547l"
      },
      "source": [
        "observation = env.reset()\n",
        "\n",
        "while True:\n",
        "  \n",
        "    env.render()\n",
        "    \n",
        "    action = env.action_space.sample() \n",
        "         \n",
        "    observation, reward, done, info = env.step(action) \n",
        "   \n",
        "    if done: \n",
        "      break;\n",
        "            \n",
        "env.close()"
      ],
      "execution_count": null,
      "outputs": []
    },
    {
      "cell_type": "code",
      "metadata": {
        "id": "GdRbmthjFCRm",
        "colab": {
          "base_uri": "https://localhost:8080/",
          "height": 420
        },
        "outputId": "677731ec-1e97-45f5-f795-07b2174cb2eb"
      },
      "source": [
        "show_video()"
      ],
      "execution_count": null,
      "outputs": [
        {
          "output_type": "display_data",
          "data": {
            "text/html": [
              "<video alt=\"test\" autoplay \n",
              "                loop controls style=\"height: 400px;\">\n",
              "                <source src=\"data:video/mp4;base64,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\" type=\"video/mp4\" />\n",
              "             </video>"
            ],
            "text/plain": [
              "<IPython.core.display.HTML object>"
            ]
          },
          "metadata": {
            "tags": []
          }
        }
      ]
    },
    {
      "cell_type": "markdown",
      "metadata": {
        "id": "nEzb9PZkzTt8"
      },
      "source": [
        "To better understand the inputs and outputs of the environment, let consider the action space and the observation space."
      ]
    },
    {
      "cell_type": "markdown",
      "metadata": {
        "id": "ZNlZX6u4zjwj"
      },
      "source": [
        "The action space is of type `Discrete(n)` where `n` is the number of actions. This is equivalent to the discrete set $\\{ 0, 1, 2, \\dotsc, n-1 \\}$."
      ]
    },
    {
      "cell_type": "code",
      "metadata": {
        "id": "zdgSbUzSzdPr",
        "colab": {
          "base_uri": "https://localhost:8080/",
          "height": 34
        },
        "outputId": "84a173e6-0fac-4bb2-b597-790ed1937e66"
      },
      "source": [
        "env.action_space"
      ],
      "execution_count": null,
      "outputs": [
        {
          "output_type": "execute_result",
          "data": {
            "text/plain": [
              "Discrete(2)"
            ]
          },
          "metadata": {
            "tags": []
          },
          "execution_count": 10
        }
      ]
    },
    {
      "cell_type": "markdown",
      "metadata": {
        "id": "0YpIgO8Hz0--"
      },
      "source": [
        "The observation space is of type `Box(n)`, which means that it is the Cartesian product of `n` intervals."
      ]
    },
    {
      "cell_type": "code",
      "metadata": {
        "id": "elLLObLuzgoa",
        "colab": {
          "base_uri": "https://localhost:8080/",
          "height": 34
        },
        "outputId": "3948fbc1-e2f0-495e-f22a-2ce2b07ac9d2"
      },
      "source": [
        "env.observation_space"
      ],
      "execution_count": null,
      "outputs": [
        {
          "output_type": "execute_result",
          "data": {
            "text/plain": [
              "Box(4,)"
            ]
          },
          "metadata": {
            "tags": []
          },
          "execution_count": 11
        }
      ]
    },
    {
      "cell_type": "code",
      "metadata": {
        "id": "Yom-orP80AUU",
        "colab": {
          "base_uri": "https://localhost:8080/",
          "height": 87
        },
        "outputId": "0a4a11e9-650f-4907-f346-6f648c2d49e7"
      },
      "source": [
        "[env.observation_space.low, env.observation_space.high]"
      ],
      "execution_count": null,
      "outputs": [
        {
          "output_type": "execute_result",
          "data": {
            "text/plain": [
              "[array([-4.8000002e+00, -3.4028235e+38, -4.1887903e-01, -3.4028235e+38],\n",
              "       dtype=float32),\n",
              " array([4.8000002e+00, 3.4028235e+38, 4.1887903e-01, 3.4028235e+38],\n",
              "       dtype=float32)]"
            ]
          },
          "metadata": {
            "tags": []
          },
          "execution_count": 12
        }
      ]
    },
    {
      "cell_type": "markdown",
      "metadata": {
        "id": "AUmxgfLF0dYK"
      },
      "source": [
        "When we make a step in the environment, the feedback that we get includes the observation:"
      ]
    },
    {
      "cell_type": "code",
      "metadata": {
        "id": "DGJOQdmc09kT",
        "colab": {
          "base_uri": "https://localhost:8080/",
          "height": 34
        },
        "outputId": "5e81e8b0-4121-4e63-ebdc-c7f7a7652e98"
      },
      "source": [
        "#env = gym.make('CartPole-v0')\n",
        "# env = Monitor(env, './video', force=True)\n",
        "env.reset()\n",
        "\n",
        "obs, r, done, _ = env.step(0)\n",
        "print(obs)"
      ],
      "execution_count": null,
      "outputs": [
        {
          "output_type": "stream",
          "text": [
            "[ 0.0456236  -0.16100853 -0.01948453  0.2519396 ]\n"
          ],
          "name": "stdout"
        }
      ]
    },
    {
      "cell_type": "markdown",
      "metadata": {
        "id": "BZeWmTZf1Emo"
      },
      "source": [
        "## Actor-Critic Algorithms\n",
        "\n",
        "Actor-critic algorithms are policy gradient algorithms where the actor is driven by the value- or Q-function estimated by the critic. The role of the actor is to find the policy according to the policy gradient method. The role of the critic is to discover the value- or Q-function, and feed back the information about “how good” the action taken in the current state was. \n",
        "\n",
        "In policy gradient algorithms, the policy is updated on the basis of the discouted reward that is experienced. Let us recall that the policy $\\pi_\\theta$ is fit such that \n",
        "$$ \\theta^* = \\arg\\max_\\theta \\mathbf{E}\\!\\left[R(\\tau)\\sum_{t=0}^T \\log \\pi_\\theta(a_t|s_t)\\right] $$\n",
        "where\n",
        "$$ R(\\tau) =\\sum_{t=0}^T\\gamma^t r(s_t,a_t) $$\n",
        "and $\\tau=(s_0, a_0, r_0, \\cdots, s_{T}, a_{T}, r_{T})$.\n",
        "\n",
        "In practice, we fit the network so as to minimize the loss\n",
        "\n",
        "$$  L(\\tau) = - \\sum_{t=0}^T R(\\tau_{t}) \\log (\\pi_\\theta(a_t)), $$\n",
        "\n",
        "where $\\tau_t=(s_t, a_t, r_t, \\cdots, s_{T}, a_{T}, r_{T})$, at the end of each episode, and repeat the process over many episodes. We also know that, instead of using $R$, we can use a modified pre-log factor so as to reduce the variance in the learning process. This is accomplished through baselines, that is some function $b(s_t)$ that is removed from $R$:\n",
        "\n",
        "$$  L(\\tau) = - \\sum_{t=0}^T [R(\\tau_{t})-b(s_t)] \\log (\\pi_\\theta(a_t)). $$\n",
        "\n",
        "The fundamental problem with this approach is that the actor just tries actions and waits to see the reward at the end of the episode. This is equivalent to perfoming a task and by trial and error learning what to do better next time. \n",
        "\n",
        "It would be much better if, while performing the task, we could receive a feedback. The critic network is then introduced to do exactly that. How does the critic performs the critics though? It implements a DQN to find the Q-function or, in a simpler version, the value function. \n",
        "\n",
        "In other words, this is equivalent to having a teacher, but the teacher is learning while teaching. It is intuitive then that the critic needs to learn sooner than the actor how to perform its task, and so we'll set the learning rate of the critic larger than the one of the actor.\n",
        "\n",
        "What the critic does is to infer the value function, which is $V(s_t)=\\mathbf{E}[R(s_t)]$ with the best policy. Suppose the critic converges and learns it. Then we can set the value function as the baseline, $b(s):=V(s)$. The resulting pre-log factor,\n",
        "\n",
        "$$  L(\\tau) = - \\sum_{t=0}^T A(\\tau_{t}) \\log (\\pi_\\theta(a_t)), $$\n",
        "\n",
        "is called advantage. This is why `A2C` is called advantage actor critic.\n",
        "\n",
        "\n"
      ]
    },
    {
      "cell_type": "code",
      "metadata": {
        "id": "2RtbkBQe7vs5"
      },
      "source": [
        "# A2C - Two networks\n",
        "class A2C_2N_CL2:\n",
        "  \n",
        "  def __init__(self, state_size, action_size, gamma=None, max_steps=None):\n",
        "    # max_steps is the maximum number of batches [s, a, r, s_] or epochs remembered\n",
        "    \n",
        "    # Parameters\n",
        "    self.state_size = state_size\n",
        "    self.action_size = action_size\n",
        "    \n",
        "    self.memory = list()\n",
        "    if gamma is None: \n",
        "      self.gamma = 0.99\n",
        "    else: \n",
        "      self.gamma = gamma\n",
        "    \n",
        "    if max_steps is None:\n",
        "      self.max_steps = 200 \n",
        "    else:\n",
        "      self.max_steps = max_steps\n",
        "\n",
        "    # learning rates\n",
        "    self.actor_lr = 0.002  # best (empirically): 0.0008\n",
        "    self.critic_lr = 3 * self.actor_lr\n",
        "\n",
        "    # actor network\n",
        "    self.actor = self.build_actor()\n",
        "\n",
        "    # critic network\n",
        "    self.critic = self.build_critic()\n",
        "\n",
        "  def remember(self, s, a, r, s_, done):\n",
        "    self.memory.append([s, a, r, s_, done])\n",
        "    if len(self.memory) > self.max_steps: # if too long\n",
        "      self.memory.pop(0) # forget the oldest\n",
        "  \n",
        "  def forget(self):\n",
        "    self.memory = list()\n",
        "\n",
        "  def custom_loss(self, y_true, y_pred):\n",
        "    \n",
        "    actions_one_hot = tf.cast(y_true, tf.float64)\n",
        "    pol = tf.cast(y_pred, tf.float64)\n",
        "\n",
        "    # loss = tf.keras.losses.categorical_crossentropy(actions_one_hot, pol)  # (batches, 1)\n",
        "\n",
        "    probs = tf.reduce_sum(tf.math.multiply(actions_one_hot, pol), axis=1)\n",
        "    probs = tf.clip_by_value(probs, 1e-9, 1.0)  # removes NaN\n",
        "    \n",
        "    log_probs = tf.math.log(probs)\n",
        "\n",
        "    loss = -log_probs\n",
        "\n",
        "    return loss\n",
        "\n",
        "  def custom_loss_with_weights(self, y_true, y_pred):\n",
        "    y_true = tf.cast(y_true, tf.float64)\n",
        "    y_pred = tf.cast(y_pred, tf.float64)\n",
        "\n",
        "    actions_one_hot, A = tf.split(y_true, [self.action_size, 1], 1)\n",
        "    advantages = tf.keras.backend.flatten(A)\n",
        "    pol = y_pred\n",
        "\n",
        "    # loss = tf.keras.losses.categorical_crossentropy(actions_one_hot, pol)  # (batches, 1)\n",
        "\n",
        "    probs = tf.reduce_sum(tf.math.multiply(actions_one_hot, pol), axis=1)\n",
        "    probs = tf.clip_by_value(probs, 1e-9, 1.0)  # removes NaN\n",
        "    \n",
        "    log_probs = tf.math.log(probs)\n",
        "\n",
        "    # compute loss\n",
        "    loss = tf.reduce_sum(tf.math.multiply(advantages, -log_probs))\n",
        "    # any nonlinearity does the trick: try to believe\n",
        "    # loss = tf.reduce_sum(tf.math.multiply(advantages, -tf.math.sqrt(probs)))  \n",
        "    return loss\n",
        "\n",
        "  # actor learns the policy: input is state; output is distribution over actions (policy)\n",
        "  def build_actor(self):\n",
        "    n_hidden = 6 * self.state_size\n",
        "\n",
        "    input_layer = K.layers.Input((self.state_size, ))\n",
        "    output_layer = K.layers.Dense(n_hidden, activation='elu')(input_layer)\n",
        "    output_layer = K.layers.Dense(n_hidden, activation='elu')(output_layer)\n",
        "    output_layer = K.layers.Dense(self.action_size, activation='softmax')(output_layer)\n",
        "\n",
        "    weight_layer = K.layers.Input((self.state_size, ))\n",
        "    weight_layer.trainable = False\n",
        "\n",
        "    model = K.models.Model([input_layer, weight_layer], output_layer)\n",
        "    \n",
        "    # loss is categorical_crossentropy since pi_theta (vector) should be equal to one-hot action (vector) eventually\n",
        "    # because there is always a best action to be taken\n",
        "    # model.compile(optimizer=K.optimizers.RMSprop(lr=self.actor_lr), loss='categorical_crossentropy') \n",
        "    model.compile(optimizer=K.optimizers.RMSprop(lr=self.actor_lr), loss=self.custom_loss_with_weights) \n",
        "    \n",
        "    return model\n",
        "\n",
        "  # critic network\n",
        "  def build_critic(self, n_hidden_1=None, n_hidden_2=None):\n",
        "        \n",
        "    if n_hidden_1 == None:\n",
        "      n_hidden_1 = 6 * self.state_size\n",
        "      \n",
        "    if n_hidden_2 == None:\n",
        "      n_hidden_2 = 6 * self.state_size\n",
        "\n",
        "    model = K.Sequential()\n",
        "    model.add(K.layers.Dense(n_hidden_1, activation=tf.nn.elu, input_dim=self.state_size))  # first hidden layer\n",
        "    model.add(K.layers.Dense(n_hidden_2, activation=tf.nn.elu))\n",
        "    model.add(K.layers.Dense(1, activation=tf.nn.elu))  # output\n",
        "    \n",
        "    model.compile(optimizer=K.optimizers.Adam(lr=self.critic_lr), loss='mse') \n",
        "    \n",
        "    return model\n",
        "\n",
        "  # actor implements policy gradient\n",
        "  def policy(self, s):\n",
        "    policy = self.actor.predict(s, batch_size=1).flatten()\n",
        "    a = np.random.choice(self.action_size, 1, p=policy)[0]\n",
        "    return a\n",
        "\n",
        "  # learn from memory\n",
        "  def learn(self):\n",
        "\n",
        "    # replay the entire episode\n",
        "    s, a, r, s_, done = zip(*self.memory)\n",
        "    a = np.reshape(a, (-1, 1))\n",
        "    \n",
        "    T = a.shape[0] # epochs in memory\n",
        "    a_one_hot = np.zeros((T, self.action_size))\n",
        "    a_one_hot[np.arange(T), a.reshape(-1)] = 1   # size: T x action_size\n",
        "    \n",
        "    target_actor = a_one_hot # actions\n",
        "    \n",
        "    cum_reward = np.cumsum((self.gamma ** np.arange(0, T)) * r)/(self.gamma ** np.arange(0, T))\n",
        "    R = np.flip(cum_reward).reshape(-1, 1)\n",
        "    s = np.concatenate(s) # or np.vstack(s)  \n",
        "    v = self.critic.predict(s)\n",
        "    A = R - v  # theoretical advantage (infinite-horizon problems)\n",
        "\n",
        "    # s_ = np.concatenate(s_)\n",
        "    # v_ = self.critic.predict(s_)\n",
        "    # r = np.reshape(r, (-1, 1))\n",
        "    # A = r + self.gamma * v_ - v  # advantage (same as above but works better in finite-horizon problems)\n",
        "    \n",
        "    # fit actor: sample_weight uses the weights to return a scalar_loss = weights.T * loss where loss is (batches, 1)  \n",
        "    # self.actor.fit(s, target_actor, sample_weight=A, epochs=1, verbose=0)  # uses advantages\n",
        "\n",
        "    # fit actor with batch weigh (no `sample_weight` provided)\n",
        "    target_actor_A = np.concatenate([target_actor, A], axis=1)    \n",
        "    self.actor.fit(s, target_actor_A, epochs=1, verbose=0)  # advantages are in the output\n",
        "\n",
        "    # fit critic\n",
        "    self.critic.fit(s, R, epochs=1, verbose=0)  # trained to get the value function "
      ],
      "execution_count": null,
      "outputs": []
    },
    {
      "cell_type": "markdown",
      "metadata": {
        "id": "rNfRziCSs1EI"
      },
      "source": [
        "## Training\n",
        "\n"
      ]
    },
    {
      "cell_type": "code",
      "metadata": {
        "id": "ce3eDMZ0svdS"
      },
      "source": [
        "seed = 0\n",
        "np.random.seed(seed)\n",
        "tf.random.set_seed(seed)\n",
        "\n",
        "# Restart environment\n",
        "# env = Monitor(env, './video', force=True)\n",
        "MAX_REWARD = 200\n",
        "env._max_episode_steps = MAX_REWARD\n",
        "\n",
        "# Parameters\n",
        "n_episodes = 350\n",
        "winning_streak = 10  # after this number of successive successes, training stops\n",
        "reward_history = np.zeros(n_episodes)\n",
        "gamma = 0.99\n",
        "steps_in_memory = MAX_REWARD  # number of steps to remember\n",
        "\n",
        "A = np.arange(env.action_space.n)\n",
        "dim_state_space = env.observation_space.shape[0]\n",
        "\n",
        "# Start training\n",
        "agent = A2C_2N_CL2(dim_state_space, env.action_space.n, gamma, steps_in_memory)\n",
        "\n",
        "# init\n",
        "s = env.reset()\n",
        "s = np.reshape(s, [1, dim_state_space])\n",
        "\n",
        "template = \"\\rEpisode: {:3d}/{:3d} | Reward: {:3.0f} | Duration: {:.2f} s\""
      ],
      "execution_count": null,
      "outputs": []
    },
    {
      "cell_type": "code",
      "metadata": {
        "id": "YSIbA89m2X-k",
        "colab": {
          "base_uri": "https://localhost:8080/",
          "height": 34
        },
        "outputId": "cc3c435b-4f13-46e7-f23b-29f3e540cd9e"
      },
      "source": [
        "for e in range(n_episodes):\n",
        "  start_time = datetime.datetime.now()\n",
        "\n",
        "  s = env.reset()\n",
        "  s = np.reshape(s, [1, dim_state_space])\n",
        "  \n",
        "  done = False\n",
        "  cum_reward = 0\n",
        "  \n",
        "  while not done:\n",
        "    a = agent.policy(s)\n",
        "    s_, r, done, _ = env.step(a)\n",
        "    s_ = np.reshape(s_, [1, dim_state_space])\n",
        "    agent.remember(s, a, r, s_, done)\n",
        "    cum_reward += r\n",
        "    s = s_\n",
        "    \n",
        "  agent.learn()\n",
        "  agent.forget()\n",
        "  \n",
        "  dt = datetime.datetime.now() - start_time\n",
        "  print(template.format(e+1, n_episodes, cum_reward, dt.total_seconds()), end='')\n",
        "  \n",
        "  reward_history[e] = cum_reward\n",
        "  \n",
        "  if e > winning_streak and np.sum(reward_history[e-winning_streak:e]) >= winning_streak * MAX_REWARD:\n",
        "    break"
      ],
      "execution_count": null,
      "outputs": [
        {
          "output_type": "stream",
          "text": [
            "Episode: 141/350 | Reward: 200 | Duration: 6.50 s"
          ],
          "name": "stdout"
        }
      ]
    },
    {
      "cell_type": "code",
      "metadata": {
        "id": "ffgqpwxbuI7l",
        "colab": {
          "base_uri": "https://localhost:8080/",
          "height": 295
        },
        "outputId": "36746cc9-6cd5-4e9e-e060-4ea519e6049c"
      },
      "source": [
        "plt.plot(reward_history[0:e], label='Reward')\n",
        "plt.xlabel('Episodes')\n",
        "plt.ylabel('Cumulative reward')\n",
        "plt.tight_layout()\n",
        "plt.show()"
      ],
      "execution_count": null,
      "outputs": [
        {
          "output_type": "display_data",
          "data": {
            "image/png": "[encoded data removed]",
            "text/plain": [
              "<Figure size 432x288 with 1 Axes>"
            ]
          },
          "metadata": {
            "tags": [],
            "image/png": {
              "width": 424,
              "height": 279
            },
            "needs_background": "light"
          }
        }
      ]
    },
    {
      "cell_type": "markdown",
      "metadata": {
        "id": "tTXgVR0P3ih7"
      },
      "source": [
        "## Trying it"
      ]
    },
    {
      "cell_type": "code",
      "metadata": {
        "id": "JpZLmyG3zlH_",
        "colab": {
          "base_uri": "https://localhost:8080/",
          "height": 34
        },
        "outputId": "5ac9fd9b-8388-4b7b-90a3-b17322942e36"
      },
      "source": [
        "env = wrap_env(gym.make(\"CartPole-v0\"))\n",
        "s = env.reset()\n",
        "s = np.reshape(s, [1, dim_state_space])\n",
        "\n",
        "done = False\n",
        "cum_reward = 0\n",
        "\n",
        "while not done:\n",
        "\n",
        "  env.render()\n",
        "  a = agent.policy(s)\n",
        "  s_, r, done, _ = env.step(a)\n",
        "  s_ = np.reshape(s_, [1, dim_state_space])\n",
        "  agent.remember(s, a, r, s_, done)\n",
        "  cum_reward += r\n",
        "  s = s_\n",
        "\n",
        "env.close()\n",
        "\n",
        "print('We got a reward equal to {:.0f}'.format(cum_reward))"
      ],
      "execution_count": null,
      "outputs": [
        {
          "output_type": "stream",
          "text": [
            "We got a reward equal to 200\n"
          ],
          "name": "stdout"
        }
      ]
    },
    {
      "cell_type": "code",
      "metadata": {
        "id": "kD3eMIxZ4m5g",
        "colab": {
          "base_uri": "https://localhost:8080/",
          "height": 420
        },
        "outputId": "efdd04c8-c586-47a9-caa9-c27d42079b84"
      },
      "source": [
        "show_video()"
      ],
      "execution_count": null,
      "outputs": [
        {
          "output_type": "display_data",
          "data": {
            "text/html": [
              "<video alt=\"test\" autoplay \n",
              "                loop controls style=\"height: 400px;\">\n",
              "                <source src=\"data:video/mp4;base64,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\" type=\"video/mp4\" />\n",
              "             </video>"
            ],
            "text/plain": [
              "<IPython.core.display.HTML object>"
            ]
          },
          "metadata": {
            "tags": []
          }
        }
      ]
    }
  ]
}