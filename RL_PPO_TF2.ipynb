{
  "nbformat": 4,
  "nbformat_minor": 0,
  "metadata": {
    "colab": {
      "name": "RL_PPO_TF2.ipynb",
      "provenance": [],
      "include_colab_link": true
    },
    "kernelspec": {
      "name": "python3",
      "display_name": "Python 3"
    },
    "accelerator": "GPU"
  },
  "cells": [
    {
      "cell_type": "markdown",
      "metadata": {
        "id": "view-in-github",
        "colab_type": "text"
      },
      "source": [
        "<a href=\"https://colab.research.google.com/github/gcfer/reinforcement-learning/blob/main/RL_PPO_TF2.ipynb\" target=\"_parent\"><img src=\"https://colab.research.google.com/assets/colab-badge.svg\" alt=\"Open In Colab\"/></a>"
      ]
    },
    {
      "cell_type": "markdown",
      "metadata": {
        "id": "C5ya9Hh00H6m"
      },
      "source": [
        "# Reinforcement Learning: PPO (Proximal Policy Optimization)"
      ]
    },
    {
      "cell_type": "markdown",
      "metadata": {
        "id": "3uI-VqIN07Y0"
      },
      "source": [
        "## Overview"
      ]
    },
    {
      "cell_type": "markdown",
      "metadata": {
        "id": "6qCmJXNc1HHQ"
      },
      "source": [
        "In this notebook, we'll discuss proximal policy algorithms, and implement a version of `PPO`, the state-of-the-art proximal policy algorithm. We'll test it by solving the cartpole problem in the Open AI gym. "
      ]
    },
    {
      "cell_type": "code",
      "metadata": {
        "id": "qs1lM6hc1tZT",
        "colab": {
          "base_uri": "https://localhost:8080/",
          "height": 52
        },
        "outputId": "2faefce1-2308-43f5-9d78-d466d7871aa0"
      },
      "source": [
        "import numpy as np\n",
        "import pandas as pd\n",
        "import datetime\n",
        "import copy\n",
        "\n",
        "# Import tensorflow\n",
        "#!pip install tensorflow-gpu==1.14.0 > /dev/null 2>&1\n",
        "import tensorflow as tf\n",
        "import tensorflow.keras as K\n",
        "print(tf.__version__)\n",
        "\n",
        "# Check that tf sees the GPU\n",
        "device_name = tf.test.gpu_device_name()\n",
        "print(device_name)\n",
        "\n",
        "# Import libraries for plotting\n",
        "import matplotlib as mpl\n",
        "import matplotlib.pyplot as plt\n",
        "plt.style.use('seaborn-pastel')\n",
        "\n",
        "%matplotlib inline\n",
        "%config InlineBackend.figure_format = 'retina'  # this makes plot in high res"
      ],
      "execution_count": null,
      "outputs": [
        {
          "output_type": "stream",
          "text": [
            "2.3.0\n",
            "\n"
          ],
          "name": "stdout"
        }
      ]
    },
    {
      "cell_type": "markdown",
      "metadata": {
        "id": "CdINAMAt5Mhx"
      },
      "source": [
        "Since we are in a remote notebook, we cannot display the progress of the environment in real time. Instead, we store the renderings and show a video at the end of the episode (refer to [this](https://star-ai.github.io/Rendering-OpenAi-Gym-in-Colaboratory/) guide in case you need it). The only advice that I can give is to import `gym` _after_ the update below."
      ]
    },
    {
      "cell_type": "code",
      "metadata": {
        "id": "5hLErsLfvsCp"
      },
      "source": [
        "#remove \" > /dev/null 2>&1\" to see what is going on under the hood\n",
        "!pip install gym pyvirtualdisplay > /dev/null 2>&1\n",
        "!apt-get install -y xvfb python-opengl ffmpeg > /dev/null 2>&1"
      ],
      "execution_count": null,
      "outputs": []
    },
    {
      "cell_type": "code",
      "metadata": {
        "id": "7gLvAnEHEYNK"
      },
      "source": [
        "# Maybe\n",
        "# !apt-get update > /dev/null 2>&1\n",
        "# !apt-get install cmake > /dev/null 2>&1\n",
        "# !pip install --upgrade setuptools 2>&1\n",
        "# !pip install ez_setup > /dev/null 2>&1\n",
        "# !pip install gym[atari] > /dev/null 2>&1"
      ],
      "execution_count": null,
      "outputs": []
    },
    {
      "cell_type": "code",
      "metadata": {
        "id": "r1_T5XRy76Fc"
      },
      "source": [
        "# Open AI gym\n",
        "import gym \n",
        "from gym import logger as gymlogger\n",
        "from gym.wrappers import Monitor\n",
        "gymlogger.set_level(40) #error only\n",
        "import math\n",
        "import random\n",
        "import glob\n",
        "import io\n",
        "import base64\n",
        "from IPython.display import HTML\n",
        "from IPython import display as ipythondisplay"
      ],
      "execution_count": null,
      "outputs": []
    },
    {
      "cell_type": "code",
      "metadata": {
        "id": "7eKBRmhhTKMg",
        "colab": {
          "base_uri": "https://localhost:8080/",
          "height": 34
        },
        "outputId": "01db9ecd-c634-4e24-a7aa-38c32db78ba3"
      },
      "source": [
        "from pyvirtualdisplay import Display\n",
        "display = Display(visible=0, size=(2880, 1800))\n",
        "display.start()"
      ],
      "execution_count": null,
      "outputs": [
        {
          "output_type": "execute_result",
          "data": {
            "text/plain": [
              "<pyvirtualdisplay.display.Display at 0x7f1546ae27f0>"
            ]
          },
          "metadata": {
            "tags": []
          },
          "execution_count": 5
        }
      ]
    },
    {
      "cell_type": "markdown",
      "metadata": {
        "id": "DjJTzesPaXhZ"
      },
      "source": [
        "The function below is needed to display the video. I slightly modified it from the original one (that you can in the guide I linked above) to avoid the infinite repetition loop of the video."
      ]
    },
    {
      "cell_type": "code",
      "metadata": {
        "id": "8iYHI6Y0TOqW"
      },
      "source": [
        "\"\"\"\n",
        "Utility functions to enable video recording of gym environment and displaying it\n",
        "To enable video, just do \"env = wrap_env(env)\"\"\n",
        "\"\"\"\n",
        "\n",
        "def show_video():\n",
        "  mp4list = glob.glob('video/*.mp4')\n",
        "  if len(mp4list) > 0:\n",
        "    mp4 = mp4list[0]\n",
        "    video = io.open(mp4, 'r+b').read()\n",
        "    encoded = base64.b64encode(video)\n",
        "    ipythondisplay.display(HTML(data='''<video alt=\"test\" autoplay \n",
        "                loop controls style=\"height: 400px;\">\n",
        "                <source src=\"data:video/mp4;base64,{0}\" type=\"video/mp4\" />\n",
        "             </video>'''.format(encoded.decode('ascii'))))\n",
        "  else: \n",
        "    print(\"Could not find video\")\n",
        "    \n",
        "\n",
        "def wrap_env(env):\n",
        "  env = Monitor(env, './video', force=True)\n",
        "  return env"
      ],
      "execution_count": null,
      "outputs": []
    },
    {
      "cell_type": "markdown",
      "metadata": {
        "id": "TmcRO58V082j"
      },
      "source": [
        "## OpenAI Gym Cartpole"
      ]
    },
    {
      "cell_type": "markdown",
      "metadata": {
        "id": "tSUaokAx1res"
      },
      "source": [
        "The Cartpole problem is a discrete control problem where we try to keep the pole vertical by moving the cart below it. \n",
        "\n",
        "Upon loading the environment, we launch a simulation where the agent chooses at random from the action sample space the next action. Finally, we show the video of the result. What happens is that the problem is considered unsolved (= game over) if the angle between pole and the line orthogonal to the cart axis is larger than a threshold. The parameter `done` specifies when the experiment is over."
      ]
    },
    {
      "cell_type": "code",
      "metadata": {
        "id": "p-MSpyS91rJ1"
      },
      "source": [
        "# Load the environment and start\n",
        "env = wrap_env(gym.make(\"CartPole-v0\"))"
      ],
      "execution_count": null,
      "outputs": []
    },
    {
      "cell_type": "code",
      "metadata": {
        "id": "30567suH547l"
      },
      "source": [
        "observation = env.reset()\n",
        "\n",
        "while True:\n",
        "  \n",
        "    env.render()\n",
        "    \n",
        "    action = env.action_space.sample() \n",
        "         \n",
        "    observation, reward, done, info = env.step(action) \n",
        "   \n",
        "    if done: \n",
        "      break;\n",
        "            \n",
        "env.close()"
      ],
      "execution_count": null,
      "outputs": []
    },
    {
      "cell_type": "code",
      "metadata": {
        "id": "GdRbmthjFCRm",
        "colab": {
          "base_uri": "https://localhost:8080/",
          "height": 420
        },
        "outputId": "e57c6254-2f8e-4c16-b03b-995e52140a55"
      },
      "source": [
        "show_video()"
      ],
      "execution_count": null,
      "outputs": [
        {
          "output_type": "display_data",
          "data": {
            "text/html": [
              "<video alt=\"test\" autoplay \n",
              "                loop controls style=\"height: 400px;\">\n",
              "                <source src=\"data:video/mp4;base64,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\" type=\"video/mp4\" />\n",
              "             </video>"
            ],
            "text/plain": [
              "<IPython.core.display.HTML object>"
            ]
          },
          "metadata": {
            "tags": []
          }
        }
      ]
    },
    {
      "cell_type": "markdown",
      "metadata": {
        "id": "nEzb9PZkzTt8"
      },
      "source": [
        "To better understand the inputs and outputs of the environment, let consider the action space and the observation space."
      ]
    },
    {
      "cell_type": "markdown",
      "metadata": {
        "id": "ZNlZX6u4zjwj"
      },
      "source": [
        "The action space is of type `Discrete(n)` where `n` is the number of actions. This is equivalent to the discrete set $\\{ 0, 1, 2, \\dotsc, n-1 \\}$."
      ]
    },
    {
      "cell_type": "code",
      "metadata": {
        "id": "zdgSbUzSzdPr",
        "colab": {
          "base_uri": "https://localhost:8080/",
          "height": 34
        },
        "outputId": "c35add79-bdcb-4a6b-9002-2eef58ecfdc1"
      },
      "source": [
        "env.action_space"
      ],
      "execution_count": null,
      "outputs": [
        {
          "output_type": "execute_result",
          "data": {
            "text/plain": [
              "Discrete(2)"
            ]
          },
          "metadata": {
            "tags": []
          },
          "execution_count": 10
        }
      ]
    },
    {
      "cell_type": "markdown",
      "metadata": {
        "id": "0YpIgO8Hz0--"
      },
      "source": [
        "The observation space is of type `Box(n)`, which means that it is the Cartesian product of `n` intervals."
      ]
    },
    {
      "cell_type": "code",
      "metadata": {
        "id": "elLLObLuzgoa",
        "colab": {
          "base_uri": "https://localhost:8080/",
          "height": 34
        },
        "outputId": "cdad6a91-fb78-4639-98f8-6370f8bf5f52"
      },
      "source": [
        "env.observation_space"
      ],
      "execution_count": null,
      "outputs": [
        {
          "output_type": "execute_result",
          "data": {
            "text/plain": [
              "Box(4,)"
            ]
          },
          "metadata": {
            "tags": []
          },
          "execution_count": 11
        }
      ]
    },
    {
      "cell_type": "code",
      "metadata": {
        "id": "Yom-orP80AUU",
        "colab": {
          "base_uri": "https://localhost:8080/",
          "height": 87
        },
        "outputId": "6c37b031-5a31-40a7-cfab-8865d6ef9829"
      },
      "source": [
        "[env.observation_space.low, env.observation_space.high]"
      ],
      "execution_count": null,
      "outputs": [
        {
          "output_type": "execute_result",
          "data": {
            "text/plain": [
              "[array([-4.8000002e+00, -3.4028235e+38, -4.1887903e-01, -3.4028235e+38],\n",
              "       dtype=float32),\n",
              " array([4.8000002e+00, 3.4028235e+38, 4.1887903e-01, 3.4028235e+38],\n",
              "       dtype=float32)]"
            ]
          },
          "metadata": {
            "tags": []
          },
          "execution_count": 12
        }
      ]
    },
    {
      "cell_type": "markdown",
      "metadata": {
        "id": "AUmxgfLF0dYK"
      },
      "source": [
        "When we make a step in the environment, the feedback that we get includes the observation:"
      ]
    },
    {
      "cell_type": "code",
      "metadata": {
        "id": "DGJOQdmc09kT",
        "colab": {
          "base_uri": "https://localhost:8080/",
          "height": 34
        },
        "outputId": "b4b1c5c4-9119-403f-c2fa-57d5198de6a3"
      },
      "source": [
        "#env = gym.make('CartPole-v0')\n",
        "# env = Monitor(env, './video', force=True)\n",
        "env.reset()\n",
        "\n",
        "obs, r, done, _ = env.step(0)\n",
        "print(obs)"
      ],
      "execution_count": null,
      "outputs": [
        {
          "output_type": "stream",
          "text": [
            "[ 0.04481061 -0.21897167  0.0430095   0.25740089]\n"
          ],
          "name": "stdout"
        }
      ]
    },
    {
      "cell_type": "markdown",
      "metadata": {
        "id": "BZeWmTZf1Emo"
      },
      "source": [
        "## Proximal Policy Optimization\n",
        "\n",
        "Proximal policy algorithms are policy gradient algorithms that try to speed up convergence. The main idea behind proximal policy is that we want to train the network by making a big step during each episode but not as big as making it difficult, or impossible, for the algorithm to converge.\n",
        "\n",
        "Recall that in `REINFORCE` we seek to minimize\n",
        "$$ L_{\\mathrm{REINFORCE}}(\\tau) = -\\mathbf{E}_{\\pi_\\theta}[ R(\\tau) ] \\sim -\\sum_{t=1}^{T} \\pi_\\theta(a_t|s_t)R(s_t,a_t) $$\n",
        "and in advantage actor critic algorithms (e.g. `A2C`) \n",
        "$$ L_{\\mathrm{A2C}}(\\tau) = -\\mathbf{E}_{\\pi_\\theta}[ A(\\tau) ] \\sim -\\sum_{t=1}^{T} \\pi_\\theta(a_t|s_t)A(s_t,a_t) $$\n",
        "with respect to the policy $\\pi_\\theta$. \n",
        "\n",
        "In `PPO`, we seek to minimize a slightly different version of such losses. First, we use importance sampling by choosing another distribution $\\pi_{\\theta'}$ and minimize the loss with respect to the new policy while keeping the old policy fixed $\\pi_{\\theta}$:\n",
        "$$ \\theta^* = \\arg\\max_{\\theta'} \\sum_{t=1}^{T} \\frac{1}{\\pi_{\\theta}(a_t|s_t)} \\pi_{\\theta'}(a_t|s_t) A(s_t,a_t). $$\n",
        "Notice that decisions are taken with respect to the old policy $\\pi_\\theta$. This has the effect of neutralizing the factor $1/\\pi_\\theta$ since the above objective function tends asymptotically to the reward we would get with the new policy. In practice, we can repeat this optimization iteratively starting with some $\\theta=\\theta_0$ and updating the policy as follows:\n",
        "$$ \\theta_{k+1} = \\arg\\max_{\\theta'} \\sum_{t=1}^{T} \\frac{1}{\\pi_{\\theta_k}(a_t|s_t)} \\pi_{\\theta'}(a_t|s_t) A(s_t,a_t). $$\n",
        "\n",
        "Second, since we are optimizing with respect to $\\theta'$, the system may be unstable (small variations in the parameter can cause big variations in the policy, and in turn in the objective function). One way to fix this issue is to constrain $\\pi_{\\theta'}$ and $\\pi_{\\theta_k}$ to be close in the variational sense, e.g. by constraining the Kullback–Leibler divergence. This is the idea behind TRPO. \n",
        "\n",
        "Alternatively, we can more quickly and more roughly just clip the policy if the change is deemed to be too big. This is the idea behind one form of `PPO`. \n",
        "\n",
        "There are two cases to investigate since the advantage can have both signs. If $A>0$, then $\\pi_{\\theta'}/\\pi_{\\theta_k}$ can explode because we are maximizing the objective function, and hence we will clip the ratio at some value such as $1+\\epsilon$. If $A < 0$, then the ratio can vanish because the maximum is zero in that case, and hence we will clip the ratio at some value such as  $1-\\epsilon$. \n",
        "\n",
        "In summary, `PPO` updates the policy as follows:\n",
        "$$ \\theta_{k+1} = \\arg\\max_{\\theta'} \\sum_{t=1}^{T} \\left[ \\left(\\frac{\\pi_{\\theta'}(a_t|s_t)}{\\pi_{\\theta_k}(a_t|s_t)} \\wedge(1+\\epsilon) \\right)  A(s_t,a_t) \\mathbf{1}_{A(s_t,a_t)\\geq 0} + \\left(\\frac{\\pi_{\\theta'}(a_t|s_t)}{\\pi_{\\theta_k}(a_t|s_t)} \\vee (1-\\epsilon) \\right)  A(s_t,a_t) \\mathbf{1}_{A(s_t,a_t)< 0}\\right] $$\n",
        "where $\\wedge$ and $\\vee$ are shorthands for min and max (like in logic)."
      ]
    },
    {
      "cell_type": "code",
      "metadata": {
        "id": "2RtbkBQe7vs5"
      },
      "source": [
        "# PPO - Proximal Policy Optimization\n",
        "class PPO:\n",
        "  \n",
        "  def __init__(self, state_size, action_size, gamma=None, max_steps=None, epsilon=None):\n",
        "    # max_steps is the maximum number of batches [s, a, r, s_] or epochs remembered\n",
        "    \n",
        "    # Parameters\n",
        "    self.state_size = state_size\n",
        "    self.action_size = action_size\n",
        "    \n",
        "    self.memory = list()\n",
        "\n",
        "    if gamma is None: \n",
        "      self.gamma = 0.99\n",
        "    else: \n",
        "      self.gamma = gamma\n",
        "    \n",
        "    if max_steps is None:\n",
        "      self.max_steps = 200 \n",
        "    else:\n",
        "      self.max_steps = max_steps\n",
        "\n",
        "    if epsilon is None:\n",
        "      self.epsilon = 0.2\n",
        "    else:\n",
        "      self.epsilon = epsilon\n",
        "\n",
        "    # learning rates\n",
        "    self.actor_lr = 0.003\n",
        "    self.critic_lr = 3 * self.actor_lr\n",
        "\n",
        "    # actor network\n",
        "    self.actor = self.build_actor()\n",
        "    self.actor_old = tf.keras.models.clone_model(self.actor)\n",
        "\n",
        "    # critic network\n",
        "    self.critic = self.build_critic()\n",
        "\n",
        "  def remember(self, s, a, r, s_, done):\n",
        "    self.memory.append([s, a, r, s_, done])\n",
        "    if len(self.memory) > self.max_steps: # if too long\n",
        "      self.memory.pop(0) # forget the oldest\n",
        "  \n",
        "  def forget(self):\n",
        "    self.memory = list()\n",
        "\n",
        "  def custom_loss(self, y_true, y_pred):\n",
        "    y_true = tf.cast(y_true, tf.float64)\n",
        "    y_pred = tf.cast(y_pred, tf.float64)\n",
        "\n",
        "    actions_one_hot, A, pol_old = tf.split(y_true, [self.action_size, 1, self.action_size], 1)\n",
        "    advantages = tf.keras.backend.flatten(A)\n",
        "\n",
        "    pol = y_pred\n",
        "\n",
        "    probs = tf.reduce_sum(tf.math.multiply(actions_one_hot, pol), axis=1)\n",
        "    probs = tf.clip_by_value(probs, 1e-9, 1.0)\n",
        "    log_probs = tf.math.log(probs)\n",
        "\n",
        "    probs_old = tf.reduce_sum(tf.math.multiply(actions_one_hot, pol_old), axis=1)\n",
        "    probs_old = tf.clip_by_value(probs_old, 1e-9, 1.0)\n",
        "\n",
        "    ratio = tf.math.divide(probs, probs_old)\n",
        "    ratio_clip = tf.clip_by_value(ratio, 1-self.epsilon, 1+self.epsilon)\n",
        "\n",
        "    kl_sum = tf.reduce_sum(tf.multiply(probs_old, -tf.math.log(ratio)))  # integral pi_old log(pi_old/pi)\n",
        "    \n",
        "    # A2C\n",
        "    # loss = tf.reduce_sum(tf.math.multiply(-log_probs, advantages))\n",
        "\n",
        "    # TRPO\n",
        "    # beta = 1\n",
        "    # loss = - tf.reduce_sum(w_adv) + beta * kl_sum\n",
        "\n",
        "    # PPO\n",
        "    # w_adv = tf.math.multiply(ratio, advantages)  # weighted averages, no clip\n",
        "    surr_1 = tf.math.multiply(ratio_clip, advantages)  # alternative\n",
        "    surr_2 = tf.math.multiply(ratio, advantages)\n",
        "    min_surr = tf.minimum(surr_1, surr_2)\n",
        "    loss = -tf.reduce_sum(min_surr)\n",
        "\n",
        "    # Regularizations\n",
        "    # 1. Entropy\n",
        "    # entropy_sum = tf.reduce_sum(tf.math.multiply(probs, -tf.math.log(probs)))\n",
        "    # loss -= 0.1 * entropy_sum\n",
        "    # 2. KL (TRPO)\n",
        "    # loss += kl_sum   \n",
        "\n",
        "    # zeros = tf.zeros_like(advantages)\n",
        "    # mask_pos = tf.greater(advantages, zeros)  # True/False mask, same size as zeros\n",
        "    # adv_pos = tf.boolean_mask(adv, mask_pos)\n",
        "    # ratio_pos = tf.boolean_mask(ratio, mask_pos)\n",
        "    # clip_ratio_pos = tf.clip_by_value(ratio_pos, 1-self.epsilon, 1+self.epsilon)\n",
        "\n",
        "    # mask_neg = tf.less(advantages, zeros)  # True/False mask, same size as zeros\n",
        "    # adv_neg = tf.boolean_mask(adv, mask_neg)\n",
        "    # ratio_neg = tf.boolean_mask(ratio, mask_neg)\n",
        "    # clip_ratio_neg = tf.clip_by_value(ratio_neg, 1-self.epsilon, 1+self.epsilon)\n",
        "\n",
        "    # # compute loss\n",
        "    # loss = - tf.reduce_sum(tf.math.multiply(adv_pos, clip_ratio_pos)) \\\n",
        "    #        - tf.reduce_sum(tf.math.multiply(adv_neg, clip_ratio_neg)) \\\n",
        "    #        - 0.1 * tf.reduce_sum(tf.math.multiply(probs, -tf.math.log(probs)))  # regularization\n",
        "\n",
        "    # loss = - tf.reduce_sum(adv)\n",
        "\n",
        "    return loss\n",
        "\n",
        "  # actor learns the policy: input is state; output is distribution over actions (policy)\n",
        "  def build_actor(self):\n",
        "    n_hidden = 10 * self.state_size\n",
        "\n",
        "    input_layer = K.layers.Input((self.state_size, ))\n",
        "    output_layer = K.layers.Dense(n_hidden, activation='elu')(input_layer)\n",
        "    output_layer = K.layers.Dense(n_hidden, activation='elu')(output_layer)\n",
        "    output_layer = K.layers.Dense(self.action_size, activation='softmax')(output_layer)\n",
        "\n",
        "    weight_layer = K.layers.Input((self.state_size, ))\n",
        "    weight_layer.trainable = False\n",
        "\n",
        "    pol_old_layer = K.layers.Input((self.action_size, ))\n",
        "    pol_old_layer.trainable = False\n",
        "\n",
        "    model = K.models.Model([input_layer, weight_layer, pol_old_layer], output_layer)\n",
        "    \n",
        "    # loss is customized for PPO\n",
        "    model.compile(optimizer=K.optimizers.RMSprop(lr=self.actor_lr), loss=self.custom_loss)\n",
        "    \n",
        "    return model\n",
        "\n",
        "  # critic network\n",
        "  def build_critic(self):\n",
        "  \n",
        "    n_hidden = 10 * self.state_size\n",
        "  \n",
        "    model = K.Sequential()\n",
        "    model.add(K.layers.Dense(n_hidden, activation=tf.nn.elu, input_dim=self.state_size))  # first hidden layer\n",
        "    model.add(K.layers.Dense(n_hidden, activation=tf.nn.elu))\n",
        "    model.add(K.layers.Dense(1, activation=tf.nn.elu))  # output\n",
        "\n",
        "    model.compile(optimizer=K.optimizers.RMSprop(lr=self.critic_lr), loss='mse')\n",
        "    \n",
        "    return model\n",
        "\n",
        "  # actor implements policy gradient\n",
        "  def policy(self, s):\n",
        "    policy = self.actor.predict(s, batch_size=1).flatten()\n",
        "    a = np.random.choice(self.action_size, 1, p=policy)[0]\n",
        "    return a\n",
        "\n",
        "  # learn from memory\n",
        "  def learn(self):\n",
        "\n",
        "    # replay the entire episode\n",
        "    s, a, r, s_, done = zip(*self.memory)\n",
        "    a = np.reshape(a, (-1, 1))\n",
        "    \n",
        "    T = a.shape[0] # epochs in memory\n",
        "    a_one_hot = np.zeros((T, self.action_size))\n",
        "    a_one_hot[np.arange(T), a.reshape(-1)] = 1   # size: T x action_size\n",
        "    \n",
        "    target_actor = a_one_hot # actions\n",
        "    \n",
        "    cum_reward = np.cumsum((self.gamma ** np.arange(0, T)) * r)/(self.gamma ** np.arange(0, T))\n",
        "    R = np.flip(cum_reward).reshape(-1, 1)\n",
        "    s = np.concatenate(s) # or np.vstack(s)  \n",
        "    v = self.critic.predict(s)\n",
        "    A = R - v  # theoretical advantage (infinite-horizon problems)\n",
        "\n",
        "    # s_ = np.concatenate(s_)\n",
        "    # v_ = self.critic.predict(s_)\n",
        "    # r = np.reshape(r, (-1, 1))\n",
        "    # A = r + self.gamma * v_ - v  # advantage (same as above but works better in finite-horizon problems)\n",
        "\n",
        "    pol_old = self.actor_old.predict(s, batch_size=len(s))\n",
        "    target_actor_plus = np.concatenate([target_actor, A, pol_old], axis=1)    \n",
        "    self.actor.fit(s, target_actor_plus, epochs=1, verbose=0)  # advantages are in the output\n",
        "    \n",
        "    self.actor_old = tf.keras.models.clone_model(self.actor)\n",
        "    # self.actor_old.build((None, self.state_size+1+self.custom_loss)) \n",
        "    # self.actor_old.compile(optimizer='rmsprop', loss=self.custom_loss)\n",
        "    self.actor_old.set_weights(self.actor.get_weights())\n",
        "    \n",
        "    # fit critic\n",
        "    self.critic.fit(s, R, epochs=1, verbose=0)  # trained to get the value function "
      ],
      "execution_count": null,
      "outputs": []
    },
    {
      "cell_type": "markdown",
      "metadata": {
        "id": "rNfRziCSs1EI"
      },
      "source": [
        "## Training\n",
        "\n"
      ]
    },
    {
      "cell_type": "code",
      "metadata": {
        "id": "ce3eDMZ0svdS"
      },
      "source": [
        "seed = 0\n",
        "np.random.seed(seed)\n",
        "tf.random.set_seed(seed)\n",
        "\n",
        "# Restart environment\n",
        "# env = Monitor(env, './video', force=True)\n",
        "MAX_REWARD = 200\n",
        "env._max_episode_steps = MAX_REWARD\n",
        "n_avg_reward = 50\n",
        "\n",
        "# Parameters\n",
        "n_episodes = 300\n",
        "reward_history = np.zeros(n_episodes)\n",
        "gamma = 0.9\n",
        "steps_in_memory = MAX_REWARD  # number of steps to remember\n",
        "\n",
        "A = np.arange(env.action_space.n)\n",
        "dim_state_space = env.observation_space.shape[0]\n",
        "\n",
        "# Start training\n",
        "agent = PPO(dim_state_space, env.action_space.n, gamma, steps_in_memory)\n",
        "\n",
        "# init\n",
        "s = env.reset()\n",
        "s = np.reshape(s, [1, dim_state_space])\n",
        "\n",
        "template = \"\\rEpisode: {:3d}/{:3d} | Reward: {:3.0f} | Avg reward (last {:2.0f} episodes): {:4.2f} | Episode duration: {:.2f} s\""
      ],
      "execution_count": null,
      "outputs": []
    },
    {
      "cell_type": "code",
      "metadata": {
        "id": "YSIbA89m2X-k",
        "colab": {
          "base_uri": "https://localhost:8080/",
          "height": 34
        },
        "outputId": "643de98e-a3d6-4348-c9fa-ddca63aa67a4"
      },
      "source": [
        "for e in range(n_episodes):\n",
        "  start_time = datetime.datetime.now()\n",
        "\n",
        "  s = env.reset()\n",
        "  s = np.reshape(s, [1, dim_state_space])\n",
        "  \n",
        "  done = False\n",
        "  cum_reward = 0\n",
        "  \n",
        "  while not done:\n",
        "    \n",
        "    a = agent.policy(s)\n",
        "    s_, r, done, _ = env.step(a)\n",
        "    s_ = np.reshape(s_, [1, dim_state_space])\n",
        "    agent.remember(s, a, r, s_, done)\n",
        "    cum_reward += r\n",
        "    s = s_\n",
        "\n",
        "  agent.learn()\n",
        "  agent.forget()\n",
        "  \n",
        "  reward_history[e] = cum_reward\n",
        "\n",
        "  if e > n_avg_reward:\n",
        "    avg_reward = np.mean(reward_history[e-n_avg_reward:e+1])\n",
        "  else:\n",
        "    avg_reward = np.mean(reward_history[:e+1])\n",
        "\n",
        "  dt = datetime.datetime.now() - start_time\n",
        "  print(template.format(e+1, n_episodes, cum_reward, min(n_avg_reward, e), avg_reward, dt.total_seconds()), end='')"
      ],
      "execution_count": null,
      "outputs": [
        {
          "output_type": "stream",
          "text": [
            "Episode: 300/300 | Reward: 166 | Avg reward (last 50 episodes): 77.20 | Episode duration: 6.10 s"
          ],
          "name": "stdout"
        }
      ]
    },
    {
      "cell_type": "code",
      "metadata": {
        "id": "ffgqpwxbuI7l",
        "colab": {
          "base_uri": "https://localhost:8080/",
          "height": 295
        },
        "outputId": "e9804d72-054f-438b-ca58-defcbfdda5fb"
      },
      "source": [
        "plt.plot(reward_history[0:e], label='Reward')\n",
        "n_ma = 50\n",
        "moving_avg = np.convolve(reward_history, np.ones((n_ma,))/n_ma)[:e]\n",
        "moving_avg[0:n_ma] = None\n",
        "plt.plot(moving_avg, lw=3, color='red')\n",
        "plt.title('Rewards with PPO')\n",
        "plt.xlabel('Episodes')\n",
        "plt.ylabel('Cumulative reward')\n",
        "plt.tight_layout()\n",
        "plt.show()"
      ],
      "execution_count": null,
      "outputs": [
        {
          "output_type": "display_data",
          "data": {
            "image/png": "[encoded data removed]",
            "text/plain": [
              "<Figure size 432x288 with 1 Axes>"
            ]
          },
          "metadata": {
            "tags": [],
            "image/png": {
              "width": 424,
              "height": 279
            },
            "needs_background": "light"
          }
        }
      ]
    },
    {
      "cell_type": "markdown",
      "metadata": {
        "id": "tTXgVR0P3ih7"
      },
      "source": [
        "## Trying it"
      ]
    },
    {
      "cell_type": "code",
      "metadata": {
        "id": "JpZLmyG3zlH_",
        "colab": {
          "base_uri": "https://localhost:8080/",
          "height": 34
        },
        "outputId": "44181f7e-5780-4e41-af35-4c2bc34a6c53"
      },
      "source": [
        "env = wrap_env(gym.make(\"CartPole-v0\"))\n",
        "s = env.reset()\n",
        "s = np.reshape(s, [1, dim_state_space])\n",
        "\n",
        "done = False\n",
        "cum_reward = 0\n",
        "\n",
        "while not done:\n",
        "\n",
        "  env.render()\n",
        "  a = agent.policy(s)\n",
        "  s_, r, done, _ = env.step(a)\n",
        "  s_ = np.reshape(s_, [1, dim_state_space])\n",
        "  agent.remember(s, a, r, s_, done)\n",
        "  cum_reward += r\n",
        "  s = s_\n",
        "\n",
        "env.close()\n",
        "\n",
        "print('We got a reward equal to {:.0f}'.format(cum_reward))"
      ],
      "execution_count": null,
      "outputs": [
        {
          "output_type": "stream",
          "text": [
            "We got a reward equal to 84\n"
          ],
          "name": "stdout"
        }
      ]
    },
    {
      "cell_type": "code",
      "metadata": {
        "id": "kD3eMIxZ4m5g",
        "colab": {
          "base_uri": "https://localhost:8080/",
          "height": 420
        },
        "outputId": "2ccbe47b-3c80-495e-ae0e-9d317a3cf844"
      },
      "source": [
        "show_video()"
      ],
      "execution_count": null,
      "outputs": [
        {
          "output_type": "display_data",
          "data": {
            "text/html": [
              "<video alt=\"test\" autoplay \n",
              "                loop controls style=\"height: 400px;\">\n",
              "                <source src=\"data:video/mp4;base64,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\" type=\"video/mp4\" />\n",
              "             </video>"
            ],
            "text/plain": [
              "<IPython.core.display.HTML object>"
            ]
          },
          "metadata": {
            "tags": []
          }
        }
      ]
    },
    {
      "cell_type": "code",
      "metadata": {
        "id": "sNjfett54yW1"
      },
      "source": [
        ""
      ],
      "execution_count": null,
      "outputs": []
    }
  ]
}