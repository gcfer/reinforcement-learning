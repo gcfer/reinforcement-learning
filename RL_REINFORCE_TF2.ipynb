{
  "nbformat": 4,
  "nbformat_minor": 0,
  "metadata": {
    "colab": {
      "name": "RL_REINFORCE_TF2.ipynb",
      "provenance": [],
      "include_colab_link": true
    },
    "kernelspec": {
      "name": "python3",
      "display_name": "Python 3"
    },
    "accelerator": "GPU"
  },
  "cells": [
    {
      "cell_type": "markdown",
      "metadata": {
        "id": "view-in-github",
        "colab_type": "text"
      },
      "source": [
        "<a href=\"https://colab.research.google.com/github/gcfer/reinforcement-learning/blob/main/RL_REINFORCE_TF2.ipynb\" target=\"_parent\"><img src=\"https://colab.research.google.com/assets/colab-badge.svg\" alt=\"Open In Colab\"/></a>"
      ]
    },
    {
      "cell_type": "markdown",
      "metadata": {
        "id": "C5ya9Hh00H6m"
      },
      "source": [
        "# Reinforcement Learning: REINFORCE (Policy Gradient Algorithm)"
      ]
    },
    {
      "cell_type": "markdown",
      "metadata": {
        "id": "3uI-VqIN07Y0"
      },
      "source": [
        "## Overview"
      ]
    },
    {
      "cell_type": "markdown",
      "metadata": {
        "id": "6qCmJXNc1HHQ"
      },
      "source": [
        "In this notebook, we'll cover policy gradient algorithms, and we'll implement `REINFORCE`, the archetypal policy gradient algorithm. We'll test it by solving the cartpole problem in the Open AI gym. "
      ]
    },
    {
      "cell_type": "code",
      "metadata": {
        "id": "qs1lM6hc1tZT",
        "colab": {
          "base_uri": "https://localhost:8080/"
        },
        "outputId": "8b14d2d3-ddfe-4d6e-9e33-32aa659ee898"
      },
      "source": [
        "import numpy as np\n",
        "import pandas as pd\n",
        "import datetime\n",
        "\n",
        "# Import tensorflow\n",
        "#!pip install tensorflow-gpu==1.14.0 > /dev/null 2>&1\n",
        "import tensorflow as tf\n",
        "import tensorflow.keras as K\n",
        "print(tf.__version__)\n",
        "\n",
        "# Check that tf sees the GPU\n",
        "device_name = tf.test.gpu_device_name()\n",
        "print(device_name)\n",
        "\n",
        "# Import libraries for plotting\n",
        "import matplotlib as mpl\n",
        "import matplotlib.pyplot as plt\n",
        "plt.style.use('seaborn-pastel')\n",
        "\n",
        "%matplotlib inline\n",
        "%config InlineBackend.figure_format = 'retina'  # this makes plot in high res"
      ],
      "execution_count": null,
      "outputs": [
        {
          "output_type": "stream",
          "text": [
            "2.4.0\n",
            "/device:GPU:0\n"
          ],
          "name": "stdout"
        }
      ]
    },
    {
      "cell_type": "markdown",
      "metadata": {
        "id": "CdINAMAt5Mhx"
      },
      "source": [
        "Since we are in a remote notebook, we cannot display the progress of the environment in real time. Instead, we store the renderings and show a video at the end of the episode (refer to [this](https://star-ai.github.io/Rendering-OpenAi-Gym-in-Colaboratory/) guide in case you need it). The only advice that I can give is to import `gym` _after_ the update below."
      ]
    },
    {
      "cell_type": "code",
      "metadata": {
        "id": "5hLErsLfvsCp"
      },
      "source": [
        "#remove \" > /dev/null 2>&1\" to see what is going on under the hood\n",
        "!pip install gym pyvirtualdisplay > /dev/null 2>&1\n",
        "!apt-get install -y xvfb python-opengl ffmpeg > /dev/null 2>&1"
      ],
      "execution_count": null,
      "outputs": []
    },
    {
      "cell_type": "code",
      "metadata": {
        "id": "7gLvAnEHEYNK"
      },
      "source": [
        "# Maybe\n",
        "# !apt-get update > /dev/null 2>&1\n",
        "# !apt-get install cmake > /dev/null 2>&1\n",
        "# !pip install --upgrade setuptools 2>&1\n",
        "# !pip install ez_setup > /dev/null 2>&1\n",
        "# !pip install gym[atari] > /dev/null 2>&1"
      ],
      "execution_count": null,
      "outputs": []
    },
    {
      "cell_type": "code",
      "metadata": {
        "id": "r1_T5XRy76Fc"
      },
      "source": [
        "# Open AI gym\n",
        "import gym \n",
        "from gym import logger as gymlogger\n",
        "from gym.wrappers import Monitor\n",
        "gymlogger.set_level(40) #error only\n",
        "import math\n",
        "import random\n",
        "import glob\n",
        "import io\n",
        "import base64\n",
        "from IPython.display import HTML\n",
        "from IPython import display as ipythondisplay"
      ],
      "execution_count": null,
      "outputs": []
    },
    {
      "cell_type": "code",
      "metadata": {
        "id": "7eKBRmhhTKMg",
        "colab": {
          "base_uri": "https://localhost:8080/"
        },
        "outputId": "bd799adb-df68-4e6f-ebc3-6915390d6711"
      },
      "source": [
        "from pyvirtualdisplay import Display\n",
        "display = Display(visible=0, size=(2880, 1800))\n",
        "display.start()"
      ],
      "execution_count": null,
      "outputs": [
        {
          "output_type": "execute_result",
          "data": {
            "text/plain": [
              "<pyvirtualdisplay.display.Display at 0x7f1f97063978>"
            ]
          },
          "metadata": {
            "tags": []
          },
          "execution_count": 5
        }
      ]
    },
    {
      "cell_type": "markdown",
      "metadata": {
        "id": "DjJTzesPaXhZ"
      },
      "source": [
        "The function below is needed to display the video. I slightly modified it from the original one (that you can in the guide I linked above) to avoid the infinite repetition loop of the video."
      ]
    },
    {
      "cell_type": "code",
      "metadata": {
        "id": "8iYHI6Y0TOqW"
      },
      "source": [
        "\"\"\"\n",
        "Utility functions to enable video recording of gym environment and displaying it\n",
        "To enable video, just do \"env = wrap_env(env)\"\"\n",
        "\"\"\"\n",
        "\n",
        "def show_video():\n",
        "  mp4list = glob.glob('video/*.mp4')\n",
        "  if len(mp4list) > 0:\n",
        "    mp4 = mp4list[0]\n",
        "    video = io.open(mp4, 'r+b').read()\n",
        "    encoded = base64.b64encode(video)\n",
        "    ipythondisplay.display(HTML(data='''<video alt=\"test\" autoplay \n",
        "                loop controls style=\"height: 400px;\">\n",
        "                <source src=\"data:video/mp4;base64,{0}\" type=\"video/mp4\" />\n",
        "             </video>'''.format(encoded.decode('ascii'))))\n",
        "  else: \n",
        "    print(\"Could not find video\")\n",
        "    \n",
        "\n",
        "def wrap_env(env):\n",
        "  env = Monitor(env, './video', force=True)\n",
        "  return env"
      ],
      "execution_count": null,
      "outputs": []
    },
    {
      "cell_type": "markdown",
      "metadata": {
        "id": "TmcRO58V082j"
      },
      "source": [
        "## OpenAI Gym Cartpole"
      ]
    },
    {
      "cell_type": "markdown",
      "metadata": {
        "id": "tSUaokAx1res"
      },
      "source": [
        "The Cartpole problem is a discrete control problem where we try to keep the pole vertical by moving the cart below it. \n",
        "\n",
        "Upon loading the environment, we launch a simulation where the agent chooses at random from the action sample space the next action. Finally, we show the video of the result. What happens is that the problem is considered unsolved (= game over) if the angle between pole and the line orthogonal to the cart axis is larger than a threshold. The parameter `done` specifies when the experiment is over."
      ]
    },
    {
      "cell_type": "code",
      "metadata": {
        "id": "p-MSpyS91rJ1"
      },
      "source": [
        "# Load the environment and start\n",
        "env = wrap_env(gym.make(\"CartPole-v0\"))"
      ],
      "execution_count": null,
      "outputs": []
    },
    {
      "cell_type": "code",
      "metadata": {
        "id": "30567suH547l"
      },
      "source": [
        "observation = env.reset()\n",
        "\n",
        "while True:\n",
        "  \n",
        "    env.render()\n",
        "    \n",
        "    action = env.action_space.sample() \n",
        "         \n",
        "    observation, reward, done, info = env.step(action) \n",
        "   \n",
        "    if done: \n",
        "      break;\n",
        "            \n",
        "env.close()"
      ],
      "execution_count": null,
      "outputs": []
    },
    {
      "cell_type": "code",
      "metadata": {
        "id": "GdRbmthjFCRm",
        "colab": {
          "base_uri": "https://localhost:8080/",
          "height": 420
        },
        "outputId": "cd2c1cfe-009f-41db-b8c2-968d01e135df"
      },
      "source": [
        "show_video()"
      ],
      "execution_count": null,
      "outputs": [
        {
          "output_type": "display_data",
          "data": {
            "text/html": [
              "<video alt=\"test\" autoplay \n",
              "                loop controls style=\"height: 400px;\">\n",
              "                <source src=\"data:video/mp4;base64,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\" type=\"video/mp4\" />\n",
              "             </video>"
            ],
            "text/plain": [
              "<IPython.core.display.HTML object>"
            ]
          },
          "metadata": {
            "tags": []
          }
        }
      ]
    },
    {
      "cell_type": "markdown",
      "metadata": {
        "id": "nEzb9PZkzTt8"
      },
      "source": [
        "To better understand the inputs and outputs of the environment, let consider the action space and the observation space."
      ]
    },
    {
      "cell_type": "markdown",
      "metadata": {
        "id": "ZNlZX6u4zjwj"
      },
      "source": [
        "The action space is of type `Discrete(n)` where `n` is the number of actions. This is equivalent to the discrete set $\\{ 0, 1, 2, \\dotsc, n-1 \\}$."
      ]
    },
    {
      "cell_type": "code",
      "metadata": {
        "id": "zdgSbUzSzdPr",
        "colab": {
          "base_uri": "https://localhost:8080/"
        },
        "outputId": "228ffa9e-f983-421f-ced4-fc0a78b0079a"
      },
      "source": [
        "env.action_space"
      ],
      "execution_count": null,
      "outputs": [
        {
          "output_type": "execute_result",
          "data": {
            "text/plain": [
              "Discrete(2)"
            ]
          },
          "metadata": {
            "tags": []
          },
          "execution_count": 10
        }
      ]
    },
    {
      "cell_type": "markdown",
      "metadata": {
        "id": "0YpIgO8Hz0--"
      },
      "source": [
        "The observation space is of type `Box(n)`, which means that it is the Cartesian product of `n` intervals."
      ]
    },
    {
      "cell_type": "code",
      "metadata": {
        "id": "elLLObLuzgoa",
        "colab": {
          "base_uri": "https://localhost:8080/"
        },
        "outputId": "f0fb4435-a3e6-4ad7-b1a1-9268ee984018"
      },
      "source": [
        "env.observation_space"
      ],
      "execution_count": null,
      "outputs": [
        {
          "output_type": "execute_result",
          "data": {
            "text/plain": [
              "Box(-3.4028234663852886e+38, 3.4028234663852886e+38, (4,), float32)"
            ]
          },
          "metadata": {
            "tags": []
          },
          "execution_count": 11
        }
      ]
    },
    {
      "cell_type": "code",
      "metadata": {
        "id": "Yom-orP80AUU",
        "colab": {
          "base_uri": "https://localhost:8080/"
        },
        "outputId": "5e736018-85db-48ae-da35-d62ed388bb5d"
      },
      "source": [
        "[env.observation_space.low, env.observation_space.high]"
      ],
      "execution_count": null,
      "outputs": [
        {
          "output_type": "execute_result",
          "data": {
            "text/plain": [
              "[array([-4.8000002e+00, -3.4028235e+38, -4.1887903e-01, -3.4028235e+38],\n",
              "       dtype=float32),\n",
              " array([4.8000002e+00, 3.4028235e+38, 4.1887903e-01, 3.4028235e+38],\n",
              "       dtype=float32)]"
            ]
          },
          "metadata": {
            "tags": []
          },
          "execution_count": 12
        }
      ]
    },
    {
      "cell_type": "markdown",
      "metadata": {
        "id": "AUmxgfLF0dYK"
      },
      "source": [
        "When we make a step in the environment, the feedback that we get includes the observation:"
      ]
    },
    {
      "cell_type": "code",
      "metadata": {
        "id": "DGJOQdmc09kT",
        "colab": {
          "base_uri": "https://localhost:8080/"
        },
        "outputId": "f5f65bd4-b4da-4b29-8cdb-558a727c9a7e"
      },
      "source": [
        "#env = gym.make('CartPole-v0')\n",
        "# env = Monitor(env, './video', force=True)\n",
        "env.reset()\n",
        "\n",
        "obs, r, done, _ = env.step(0)\n",
        "print(obs)"
      ],
      "execution_count": null,
      "outputs": [
        {
          "output_type": "stream",
          "text": [
            "[-0.0248302  -0.19857408  0.00899464  0.29775695]\n"
          ],
          "name": "stdout"
        }
      ]
    },
    {
      "cell_type": "markdown",
      "metadata": {
        "id": "BZeWmTZf1Emo"
      },
      "source": [
        "## Policy Gradient Algorithms\n",
        "\n",
        "Policy gradient algorithms seek to learn the policy via gradient descent, as the name suggests. They differ from value-based algorithms that instead learn the Q-function and derive the policy from there, and thus indirectly. \n",
        "\n",
        "To be more precise, a policy gradient algorithm seeks to learn the probability of each action given the current state, i.e., the policy $\\pi(s,a)$. Then we take the action by randomly sampling $\\pi(s,a)$.\n",
        "\n",
        "In order to fit $\\pi(s,a)$, we need to define an objective function. Since the neural network can approximate “any” function, we shall keep the neural network find the parameters $\\theta$ of the policy $\\pi_\\theta$ that maximizes the future expected discounted reward:\n",
        "\n",
        "$$ \\theta^* = \\arg\\max_\\theta \\mathbf{E}\\!\\left[\\sum_{t=0}^T\\gamma^t r(s_t,a_t)\\right] $$\n",
        "\n",
        "where the expectation is over trajectories $\\tau=(s_0, a_0, r_0, s_1, a_1, r_1, \\cdots, r_{T})$, $r_t:=r(s_t,a_t)$ is the reward that we get when we take action $a_t$ in state $s_t$, and $T$ is the length of the episode. \n",
        "\n",
        "As a shorthand, define the future discounted reward\n",
        "$$ R(\\tau) =\\sum_{t=0}^T\\gamma^t r(s_t,a_t). $$\n",
        "The expected value of $R$ is just the value function. To be extremely clear, it is very important to recognize that $R$ depends on the trajectory, but it does not depend on the weights of the policy. In fact, two different policies that suggest the same actions would get to the same value of $R$. In other words, $R$ depends on the actions, not on why or how those actions have been taken. This is very important in deriving the gradient with respect to $\\theta$ below. \n",
        "\n",
        "The trajectory follows a Markov decision process, i.e.\n",
        "\n",
        "$$ p_\\theta(\\tau) = \\prod_{t=0}^T p(s_{t}|a_{t-1},s_{t-1})\\pi_\\theta(a_t|s_t) $$\n",
        "with the convention that $p(s_0|a_{-1}, s_{-1})=p_0(s_0)$ where $p_0$ is the density of the distribution of initial states. Putting all together:\n",
        "\n",
        "$$ \\theta^* = \\arg\\max_\\theta \\int \\prod_{t=0}^T ds_t\\, da_t \\, \\pi_\\theta(a_t|s_t) p(s_{t}|a_{t-1}, s_{t-1}) \\, R(\\tau). $$\n",
        "\n",
        "To find the maximum, we compute the gradient with respect to $\\theta$ of the objective function above:\n",
        "\n",
        "\\begin{align} \\nabla_\\theta \\mathbf{E}[R(\\tau)] \n",
        "& = \\int d\\tau \\nabla p_\\theta(\\tau) R(\\tau) \\\\ & =  \\int d\\tau p_\\theta(\\tau) \\nabla_\\theta\\!\\log p_\\theta(\\tau) R(\\tau) \\\\\n",
        "& = \\mathbf{E}[\\nabla_\\theta\\!\\log p_\\theta(\\tau) R(\\tau)] \\\\\n",
        "& = \\mathbf{E}\\!\\left[\\sum_{t=0}^T \\nabla_\\theta\\!\\log \\pi_\\theta(a_t|s_t) R(\\tau)\\right]. \n",
        "\\end{align}\n",
        "Notice that $R(\\tau)$ multiplies the entire sum, that is,\n",
        "\n",
        "$$ \\nabla_\\theta \\mathbf{E}[R(\\tau)]  = \\mathbf{E}\\!\\left[R(\\tau)\\sum_{t=0}^T \\nabla_\\theta\\!\\log \\pi_\\theta(a_t|s_t) \\right]. $$\n",
        "\n",
        "By integrating back in $\\theta$, we get that an equivalent objective function to maximize is given by the expression above without the gradient, i.e.\n",
        "$$ \\theta^* = \\arg\\max_\\theta \\mathbf{E}\\!\\left[R(\\tau)\\sum_{t=0}^T \\log \\pi_\\theta(a_t|s_t) \\right]. $$\n",
        "\n",
        "From a theoretical perspective, this is pretty much what a policy gradient algorithm does. \n",
        "\n",
        "From a practical perspective, the integral is evaluated via the Monte Carlo method over several trajectories (episodes). That is, we sample a trajectory, optimize over it, and repeat this process several times. \n",
        "\n",
        "The way it is implemented below is the following. We sample a trajectory with the previously available $\\pi_\\theta$. We save in memory all steps, actions, and rewards. We form the artificial distribution $\\tilde{\\pi}_t(a, a_t)=\\delta_{a,a_t}$ where $\\delta$ is the Kronecker delta. This is our “target distribution” since we expect, at convergence, that there is always a best action to take and that $\\pi_\\theta$ suggests such best action. To compare $\\pi_\\theta$ and $\\tilde{\\pi}_t$ we use the <font color='green'>categorical crossentropy</font>. The loss function is given by\n",
        "\n",
        "\\begin{align} L(\\tau) & = R(\\tau)\\sum_{t=0}^T h(\\tilde{\\pi}_t, \\pi_\\theta) \\\\ & = R(\\tau)\\sum_{t=0}^T  {\\color{green}{\\sum_{a\\in\\mathcal{A}} -\\tilde{\\pi}_t(a) \\log (\\pi_\\theta(a))}} \\\\\n",
        "& = -R(\\tau)\\sum_{t=0}^T  \\log (\\pi_\\theta(a_t)).\n",
        "\\end{align}\n",
        "Minimizing $L(\\tau)$ is equivalent to the maximization problem that we illustrated above. \n",
        "\n",
        "To speed up the learning process, we provide all steps at once to the network, and compute a slightly different loss. Firstly, let us simplify the loss above via\n",
        "\n",
        "$$ L(\\tau) \\approx -R(\\tau) \\log(\\pi_\\theta(a_0)).$$\n",
        "\n",
        "Secondly, define the discounted future reward from $t'$ to $T$,\n",
        "\n",
        "$$R(\\tau_{t'}) := R(s_{t'}, a_{t'}, r_{t'}, \\cdots, s_{T}, a_{T}, r_{T}),$$\n",
        "\n",
        "for all $t'\\in[0:T]$. Finally, we define a cumulative loss by summing up the loss at each step in the episode:\n",
        "\\begin{align} L(\\tau) & \\approx - \\sum_{t=0}^T R(\\tau_{t}) \\log (\\pi_\\theta(a_t)).\n",
        "\\end{align}"
      ]
    },
    {
      "cell_type": "code",
      "metadata": {
        "id": "2RtbkBQe7vs5"
      },
      "source": [
        "# REINFORCE\n",
        "class REINFORCE:\n",
        "  \n",
        "  def __init__(self, state_size, action_size, gamma=None, max_steps=None):\n",
        "    # max_steps is the maximum number of batches [s, a, r, s_] or epochs remembered\n",
        "    \n",
        "    # Parameters\n",
        "    self.state_size = state_size\n",
        "    self.action_size = action_size\n",
        "    \n",
        "    self.memory = list()\n",
        "    if gamma is None: \n",
        "      self.gamma = 0.99\n",
        "    else: \n",
        "      self.gamma = gamma\n",
        "    \n",
        "    if max_steps is None:\n",
        "      self.max_steps = 200 \n",
        "    else:\n",
        "      self.max_steps = max_steps\n",
        "\n",
        "    self.lr = 0.005       # learning rates\n",
        "\n",
        "    # actor network\n",
        "    self.actor = self.build_actor()\n",
        "\n",
        "  def remember(self, s, a, r, s_, done):\n",
        "    self.memory.append([s, a, r, s_, done])\n",
        "    if len(self.memory) > self.max_steps: # if too long\n",
        "      self.memory.pop(0) # forget the oldest\n",
        "  \n",
        "  def forget(self):\n",
        "    self.memory = list()\n",
        "\n",
        "  # actor learns the policy: input is state; output is distribution over actions (policy)\n",
        "  def build_actor(self, n_hidden_1=None, n_hidden_2=None):\n",
        "        \n",
        "    if n_hidden_1 == None:\n",
        "      n_hidden_1 = 6 * self.state_size\n",
        "      \n",
        "    if n_hidden_2 == None:\n",
        "      n_hidden_2 = 6 * self.state_size\n",
        "\n",
        "    model = K.Sequential()\n",
        "    model.add(K.layers.Dense(n_hidden_1, activation=tf.nn.elu, input_dim=self.state_size))  # input\n",
        "    model.add(K.layers.Dense(n_hidden_2, activation=tf.nn.elu))\n",
        "    model.add(K.layers.Dense(self.action_size, activation='softmax'))  # output\n",
        "    \n",
        "    # loss is categorical_crossentropy since pi_theta* (vector) should be equal to one-hot action (vector) \n",
        "    # because there is always a best action to be taken\n",
        "    # \n",
        "    model.compile(optimizer=K.optimizers.RMSprop(lr=self.lr), loss='categorical_crossentropy') \n",
        "    \n",
        "    return model\n",
        "\n",
        "  # actor implements policy gradient\n",
        "  def policy(self, s):\n",
        "    policy = self.actor.predict(s, batch_size=1).flatten()\n",
        "    a = np.random.choice(self.action_size, 1, p=policy)[0]\n",
        "    return a\n",
        "\n",
        "  # learn from memory\n",
        "  def learn(self):\n",
        "\n",
        "    # replay the entire episode\n",
        "    # minibatch = random.sample(self.memory, batch_size)\n",
        "    s, a, r, s_, done = zip(*self.memory)\n",
        "    a = np.reshape(a, (-1, 1))\n",
        "    T = a.shape[0] # epochs in memory\n",
        "    a_one_hot = np.zeros((T, self.action_size))\n",
        "    a_one_hot[np.arange(T), a.reshape(-1)] = 1   # size: T x action_size\n",
        "\n",
        "    s = np.concatenate(s) # or np.vstack(s)   \n",
        "    target_actor = a_one_hot # actions\n",
        "    # s_ = np.concatenate(s_)\n",
        "    \n",
        "    R = np.zeros(T,)\n",
        "    R[T-1] = r[T-1]\n",
        "    for t in reversed(range(T-1)):\n",
        "      R[t] = self.gamma * R[t+1] + r[t]\n",
        "    R = R.reshape(-1, 1)\n",
        "    \n",
        "    self.actor.fit(s, target_actor, sample_weight=R, epochs=1, verbose=0) \n",
        "    # self.actor.train_on_batch(s, target_actor, sample_weight=R) \n",
        "\n",
        "    # v = self.critic.predict(s)\n",
        "    # v_ = self.critic.predict(s_)\n",
        "    # target_actor[:, a] = r + (1-done) * self.gamma * v_ - v # advantage"
      ],
      "execution_count": null,
      "outputs": []
    },
    {
      "cell_type": "markdown",
      "metadata": {
        "id": "rNfRziCSs1EI"
      },
      "source": [
        "## Training\n",
        "\n"
      ]
    },
    {
      "cell_type": "code",
      "metadata": {
        "id": "ce3eDMZ0svdS"
      },
      "source": [
        "seed = 0\n",
        "np.random.seed(seed)\n",
        "tf.random.set_seed(seed)\n",
        "\n",
        "# Restart environment\n",
        "# env = Monitor(env, './video', force=True)\n",
        "MAX_REWARD = 200\n",
        "env._max_episode_steps = MAX_REWARD\n",
        "\n",
        "# Parameters\n",
        "n_episodes = 300\n",
        "winning_streak = 10  # after this number of successive successes, training stops\n",
        "reward_history = np.zeros(n_episodes)\n",
        "gamma = 0.99\n",
        "steps_in_memory = 200  # number of steps to remember\n",
        "\n",
        "A = np.arange(env.action_space.n)\n",
        "dim_state_space = env.observation_space.shape[0]\n",
        "\n",
        "# Start training\n",
        "agent = REINFORCE(dim_state_space, env.action_space.n, gamma, steps_in_memory)\n",
        "\n",
        "# init\n",
        "s = env.reset()\n",
        "s = np.reshape(s, [1, dim_state_space])\n",
        "\n",
        "# for _ in range(n_steps_in_memory):\n",
        "#   a = agent.policy(s)\n",
        "#   s_, r, done, _ = env.step(a)\n",
        "#   s_ = np.reshape(s_, [1, dim_state_space])\n",
        "#   agent.remember(s, a, r, s_, done)\n",
        "\n",
        "template = \"\\rEpisode: {:3d}/{:3d} | Reward: {:3.0f} | Duration: {:.2f} s\""
      ],
      "execution_count": null,
      "outputs": []
    },
    {
      "cell_type": "code",
      "metadata": {
        "id": "YSIbA89m2X-k",
        "colab": {
          "base_uri": "https://localhost:8080/",
          "height": 34
        },
        "outputId": "ec47eabc-5198-476d-9d6b-2bf45e5090b9"
      },
      "source": [
        "for e in range(n_episodes):\n",
        "  start_time = datetime.datetime.now()\n",
        "\n",
        "  s = env.reset()\n",
        "  s = np.reshape(s, [1, dim_state_space])\n",
        "  \n",
        "  done = False\n",
        "  cum_reward = 0\n",
        "  \n",
        "  while not done:\n",
        "    \n",
        "    a = agent.policy(s)\n",
        "    s_, r, done, _ = env.step(a)\n",
        "    s_ = np.reshape(s_, [1, dim_state_space])\n",
        "    agent.remember(s, a, r, s_, done)\n",
        "    cum_reward += r\n",
        "    s = s_\n",
        "\n",
        "  agent.learn()\n",
        "  agent.forget()\n",
        "  \n",
        "  dt = datetime.datetime.now() - start_time\n",
        "  print(template.format(e+1, n_episodes, cum_reward, dt.total_seconds()), end='')\n",
        "  \n",
        "  reward_history[e] = cum_reward"
      ],
      "execution_count": null,
      "outputs": [
        {
          "output_type": "stream",
          "text": [
            "Episode: 300/300 | Reward: 200 | Duration: 4.90 s"
          ],
          "name": "stdout"
        }
      ]
    },
    {
      "cell_type": "code",
      "metadata": {
        "id": "ffgqpwxbuI7l",
        "colab": {
          "base_uri": "https://localhost:8080/"
        },
        "outputId": "ece4a5ef-fb90-4ae7-9cac-b9e9fe70793b"
      },
      "source": [
        "plt.plot(reward_history[0:e], label='Reward')\n",
        "plt.xlabel('Episodes')\n",
        "plt.ylabel('Cumulative reward')\n",
        "plt.tight_layout()\n",
        "plt.show()"
      ],
      "execution_count": null,
      "outputs": [
        {
          "output_type": "display_data",
          "data": {
            "image/png": "[encoded data removed]",
            "text/plain": [
              "<Figure size 432x288 with 1 Axes>"
            ]
          },
          "metadata": {
            "tags": [],
            "image/png": {
              "width": 424,
              "height": 279
            },
            "needs_background": "light"
          }
        }
      ]
    },
    {
      "cell_type": "markdown",
      "metadata": {
        "id": "HY0FXzUK5CY_"
      },
      "source": [
        "Empirical observations:\n",
        "\n",
        "*   it is well known that policy gradient algorithms are noisy, and indeed we can observe it very clearly in the \n",
        "*   increasing the learning rate accelerates learning (e.g. going from 0.001 to 0.01 more than halves the number of epochs required to reach the maximum score)\n",
        "*   we can modify $J_t$ by subtracting a “baseline” so as to reduce the variance of the results; one very important baseline is such that $J_t$ becomes the so-called advantage, which forms the basis for actor-critic algorithms\n",
        "\n",
        "\n"
      ]
    },
    {
      "cell_type": "markdown",
      "metadata": {
        "id": "tTXgVR0P3ih7"
      },
      "source": [
        "## Trying it"
      ]
    },
    {
      "cell_type": "code",
      "metadata": {
        "id": "JpZLmyG3zlH_",
        "colab": {
          "base_uri": "https://localhost:8080/",
          "height": 34
        },
        "outputId": "15b1282e-fa67-429f-91a8-72496f156b7f"
      },
      "source": [
        "env = wrap_env(gym.make(\"CartPole-v0\"))\n",
        "s = env.reset()\n",
        "s = np.reshape(s, [1, dim_state_space])\n",
        "\n",
        "done = False\n",
        "cum_reward = 0\n",
        "\n",
        "while not done:\n",
        "\n",
        "  env.render()\n",
        "  a = agent.policy(s)\n",
        "  s_, r, done, _ = env.step(a)\n",
        "  s_ = np.reshape(s_, [1, dim_state_space])\n",
        "  agent.remember(s, a, r, s_, done)\n",
        "  cum_reward += r\n",
        "  s = s_\n",
        "\n",
        "env.close()\n",
        "\n",
        "print('We got a reward equal to {:.0f}'.format(cum_reward))"
      ],
      "execution_count": null,
      "outputs": [
        {
          "output_type": "stream",
          "text": [
            "We got a reward equal to 200\n"
          ],
          "name": "stdout"
        }
      ]
    },
    {
      "cell_type": "code",
      "metadata": {
        "id": "kD3eMIxZ4m5g",
        "colab": {
          "base_uri": "https://localhost:8080/"
        },
        "outputId": "afec2d30-97bd-4a2f-c44a-efd11314c95e"
      },
      "source": [
        "show_video()"
      ],
      "execution_count": null,
      "outputs": [
        {
          "output_type": "display_data",
          "data": {
            "text/html": [
              "<video alt=\"test\" autoplay \n",
              "                loop controls style=\"height: 400px;\">\n",
              "                <source src=\"data:video/mp4;base64,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\" type=\"video/mp4\" />\n",
              "             </video>"
            ],
            "text/plain": [
              "<IPython.core.display.HTML object>"
            ]
          },
          "metadata": {
            "tags": []
          }
        }
      ]
    },
    {
      "cell_type": "code",
      "metadata": {
        "id": "sNjfett54yW1"
      },
      "source": [
        ""
      ],
      "execution_count": null,
      "outputs": []
    }
  ]
}