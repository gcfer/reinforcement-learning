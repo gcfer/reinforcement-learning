{
  "nbformat": 4,
  "nbformat_minor": 0,
  "metadata": {
    "colab": {
      "name": "RL_DQN_TF2.ipynb",
      "provenance": [],
      "include_colab_link": true
    },
    "kernelspec": {
      "name": "python3",
      "display_name": "Python 3"
    },
    "accelerator": "GPU"
  },
  "cells": [
    {
      "cell_type": "markdown",
      "metadata": {
        "id": "view-in-github",
        "colab_type": "text"
      },
      "source": [
        "<a href=\"https://colab.research.google.com/github/gcfer/reinforcement-learning/blob/main/RL_DQN_TF2.ipynb\" target=\"_parent\"><img src=\"https://colab.research.google.com/assets/colab-badge.svg\" alt=\"Open In Colab\"/></a>"
      ]
    },
    {
      "cell_type": "markdown",
      "metadata": {
        "id": "C5ya9Hh00H6m"
      },
      "source": [
        "# Reinforcement Learning: Deep Q-Network with Memory and Replay"
      ]
    },
    {
      "cell_type": "markdown",
      "metadata": {
        "id": "3uI-VqIN07Y0"
      },
      "source": [
        "## Overview"
      ]
    },
    {
      "cell_type": "markdown",
      "metadata": {
        "id": "6qCmJXNc1HHQ"
      },
      "source": [
        "In this notebook, we'll show how to implement a Deep Q-Network (DQN). We'll test it on the cartpole problem in the Open AI gym. "
      ]
    },
    {
      "cell_type": "code",
      "metadata": {
        "id": "qs1lM6hc1tZT",
        "colab": {
          "base_uri": "https://localhost:8080/",
          "height": 51
        },
        "outputId": "3e4e0a53-864e-4a4c-f2f5-76a2398b2ada"
      },
      "source": [
        "import numpy as np\n",
        "import pandas as pd\n",
        "import datetime\n",
        "\n",
        "# Import tensorflow\n",
        "#!pip install tensorflow-gpu==1.14.0 > /dev/null 2>&1\n",
        "import tensorflow as tf\n",
        "print(tf.__version__)\n",
        "\n",
        "# Check that tf sees the GPU\n",
        "device_name = tf.test.gpu_device_name()\n",
        "print(device_name)\n",
        "\n",
        "# Import libraries for plotting\n",
        "import matplotlib as mpl\n",
        "import matplotlib.pyplot as plt\n",
        "plt.style.use('seaborn-pastel')\n",
        "\n",
        "%matplotlib inline\n",
        "%config InlineBackend.figure_format = 'retina'  # this makes plot in high res"
      ],
      "execution_count": null,
      "outputs": [
        {
          "output_type": "stream",
          "text": [
            "2.2.0\n",
            "/device:GPU:0\n"
          ],
          "name": "stdout"
        }
      ]
    },
    {
      "cell_type": "markdown",
      "metadata": {
        "id": "CdINAMAt5Mhx"
      },
      "source": [
        "Since we are in a remote notebook, we cannot display the progress of the environment in real time. Instead, we store the renderings and show a video at the end of the episode (refer to [this](https://star-ai.github.io/Rendering-OpenAi-Gym-in-Colaboratory/) guide in case you need it). The only advice that I can give is to import `gym` _after_ the update below."
      ]
    },
    {
      "cell_type": "code",
      "metadata": {
        "id": "5hLErsLfvsCp"
      },
      "source": [
        "#remove \" > /dev/null 2>&1\" to see what is going on under the hood\n",
        "!pip install gym pyvirtualdisplay > /dev/null 2>&1\n",
        "!apt-get install -y xvfb python-opengl ffmpeg > /dev/null 2>&1"
      ],
      "execution_count": null,
      "outputs": []
    },
    {
      "cell_type": "code",
      "metadata": {
        "id": "7gLvAnEHEYNK",
        "colab": {
          "base_uri": "https://localhost:8080/",
          "height": 256
        },
        "outputId": "af89b0e7-0633-419c-ca36-e59206b8cf5f"
      },
      "source": [
        "# Maybe\n",
        "!apt-get update > /dev/null 2>&1\n",
        "!apt-get install cmake > /dev/null 2>&1\n",
        "!pip install --upgrade setuptools 2>&1\n",
        "!pip install ez_setup > /dev/null 2>&1\n",
        "!pip install gym[atari] > /dev/null 2>&1"
      ],
      "execution_count": null,
      "outputs": [
        {
          "output_type": "stream",
          "text": [
            "Collecting setuptools\n",
            "\u001b[?25l  Downloading https://files.pythonhosted.org/packages/8e/11/9e10f1cad4518cb307b484c255cae61e97f05b82f6d536932b1714e01b47/setuptools-49.2.0-py3-none-any.whl (789kB)\n",
            "\r\u001b[K     |▍                               | 10kB 18.4MB/s eta 0:00:01\r\u001b[K     |▉                               | 20kB 4.6MB/s eta 0:00:01\r\u001b[K     |█▎                              | 30kB 4.6MB/s eta 0:00:01\r\u001b[K     |█▋                              | 40kB 5.0MB/s eta 0:00:01\r\u001b[K     |██                              | 51kB 5.2MB/s eta 0:00:01\r\u001b[K     |██▌                             | 61kB 5.6MB/s eta 0:00:01\r\u001b[K     |███                             | 71kB 6.3MB/s eta 0:00:01\r\u001b[K     |███▎                            | 81kB 6.5MB/s eta 0:00:01\r\u001b[K     |███▊                            | 92kB 6.4MB/s eta 0:00:01\r\u001b[K     |████▏                           | 102kB 6.9MB/s eta 0:00:01\r\u001b[K     |████▋                           | 112kB 6.9MB/s eta 0:00:01\r\u001b[K     |█████                           | 122kB 6.9MB/s eta 0:00:01\r\u001b[K     |█████▍                          | 133kB 6.9MB/s eta 0:00:01\r\u001b[K     |█████▉                          | 143kB 6.9MB/s eta 0:00:01\r\u001b[K     |██████▎                         | 153kB 6.9MB/s eta 0:00:01\r\u001b[K     |██████▋                         | 163kB 6.9MB/s eta 0:00:01\r\u001b[K     |███████                         | 174kB 6.9MB/s eta 0:00:01\r\u001b[K     |███████▌                        | 184kB 6.9MB/s eta 0:00:01\r\u001b[K     |███████▉                        | 194kB 6.9MB/s eta 0:00:01\r\u001b[K     |████████▎                       | 204kB 6.9MB/s eta 0:00:01\r\u001b[K     |████████▊                       | 215kB 6.9MB/s eta 0:00:01\r\u001b[K     |█████████▏                      | 225kB 6.9MB/s eta 0:00:01\r\u001b[K     |█████████▌                      | 235kB 6.9MB/s eta 0:00:01\r\u001b[K     |██████████                      | 245kB 6.9MB/s eta 0:00:01\r\u001b[K     |██████████▍                     | 256kB 6.9MB/s eta 0:00:01\r\u001b[K     |██████████▉                     | 266kB 6.9MB/s eta 0:00:01\r\u001b[K     |███████████▏                    | 276kB 6.9MB/s eta 0:00:01\r\u001b[K     |███████████▋                    | 286kB 6.9MB/s eta 0:00:01\r\u001b[K     |████████████                    | 296kB 6.9MB/s eta 0:00:01\r\u001b[K     |████████████▌                   | 307kB 6.9MB/s eta 0:00:01\r\u001b[K     |████████████▉                   | 317kB 6.9MB/s eta 0:00:01\r\u001b[K     |█████████████▎                  | 327kB 6.9MB/s eta 0:00:01\r\u001b[K     |█████████████▊                  | 337kB 6.9MB/s eta 0:00:01\r\u001b[K     |██████████████                  | 348kB 6.9MB/s eta 0:00:01\r\u001b[K     |██████████████▌                 | 358kB 6.9MB/s eta 0:00:01\r\u001b[K     |███████████████                 | 368kB 6.9MB/s eta 0:00:01\r\u001b[K     |███████████████▍                | 378kB 6.9MB/s eta 0:00:01\r\u001b[K     |███████████████▊                | 389kB 6.9MB/s eta 0:00:01\r\u001b[K     |████████████████▏               | 399kB 6.9MB/s eta 0:00:01\r\u001b[K     |████████████████▋               | 409kB 6.9MB/s eta 0:00:01\r\u001b[K     |█████████████████               | 419kB 6.9MB/s eta 0:00:01\r\u001b[K     |█████████████████▍              | 430kB 6.9MB/s eta 0:00:01\r\u001b[K     |█████████████████▉              | 440kB 6.9MB/s eta 0:00:01\r\u001b[K     |██████████████████▎             | 450kB 6.9MB/s eta 0:00:01\r\u001b[K     |██████████████████▊             | 460kB 6.9MB/s eta 0:00:01\r\u001b[K     |███████████████████             | 471kB 6.9MB/s eta 0:00:01\r\u001b[K     |███████████████████▌            | 481kB 6.9MB/s eta 0:00:01\r\u001b[K     |████████████████████            | 491kB 6.9MB/s eta 0:00:01\r\u001b[K     |████████████████████▎           | 501kB 6.9MB/s eta 0:00:01\r\u001b[K     |████████████████████▊           | 512kB 6.9MB/s eta 0:00:01\r\u001b[K     |█████████████████████▏          | 522kB 6.9MB/s eta 0:00:01\r\u001b[K     |█████████████████████▋          | 532kB 6.9MB/s eta 0:00:01\r\u001b[K     |██████████████████████          | 542kB 6.9MB/s eta 0:00:01\r\u001b[K     |██████████████████████▍         | 552kB 6.9MB/s eta 0:00:01\r\u001b[K     |██████████████████████▉         | 563kB 6.9MB/s eta 0:00:01\r\u001b[K     |███████████████████████▎        | 573kB 6.9MB/s eta 0:00:01\r\u001b[K     |███████████████████████▋        | 583kB 6.9MB/s eta 0:00:01\r\u001b[K     |████████████████████████        | 593kB 6.9MB/s eta 0:00:01\r\u001b[K     |████████████████████████▌       | 604kB 6.9MB/s eta 0:00:01\r\u001b[K     |█████████████████████████       | 614kB 6.9MB/s eta 0:00:01\r\u001b[K     |█████████████████████████▎      | 624kB 6.9MB/s eta 0:00:01\r\u001b[K     |█████████████████████████▊      | 634kB 6.9MB/s eta 0:00:01\r\u001b[K     |██████████████████████████▏     | 645kB 6.9MB/s eta 0:00:01\r\u001b[K     |██████████████████████████▌     | 655kB 6.9MB/s eta 0:00:01\r\u001b[K     |███████████████████████████     | 665kB 6.9MB/s eta 0:00:01\r\u001b[K     |███████████████████████████▍    | 675kB 6.9MB/s eta 0:00:01\r\u001b[K     |███████████████████████████▉    | 686kB 6.9MB/s eta 0:00:01\r\u001b[K     |████████████████████████████▏   | 696kB 6.9MB/s eta 0:00:01\r\u001b[K     |████████████████████████████▋   | 706kB 6.9MB/s eta 0:00:01\r\u001b[K     |█████████████████████████████   | 716kB 6.9MB/s eta 0:00:01\r\u001b[K     |█████████████████████████████▌  | 727kB 6.9MB/s eta 0:00:01\r\u001b[K     |█████████████████████████████▉  | 737kB 6.9MB/s eta 0:00:01\r\u001b[K     |██████████████████████████████▎ | 747kB 6.9MB/s eta 0:00:01\r\u001b[K     |██████████████████████████████▊ | 757kB 6.9MB/s eta 0:00:01\r\u001b[K     |███████████████████████████████▏| 768kB 6.9MB/s eta 0:00:01\r\u001b[K     |███████████████████████████████▌| 778kB 6.9MB/s eta 0:00:01\r\u001b[K     |████████████████████████████████| 788kB 6.9MB/s eta 0:00:01\r\u001b[K     |████████████████████████████████| 798kB 6.9MB/s \n",
            "\u001b[31mERROR: datascience 0.10.6 has requirement folium==0.2.1, but you'll have folium 0.8.3 which is incompatible.\u001b[0m\n",
            "\u001b[?25hInstalling collected packages: setuptools\n",
            "  Found existing installation: setuptools 49.1.0\n",
            "    Uninstalling setuptools-49.1.0:\n",
            "      Successfully uninstalled setuptools-49.1.0\n",
            "Successfully installed setuptools-49.2.0\n"
          ],
          "name": "stdout"
        },
        {
          "output_type": "display_data",
          "data": {
            "application/vnd.colab-display-data+json": {
              "pip_warning": {
                "packages": [
                  "pkg_resources"
                ]
              }
            }
          },
          "metadata": {
            "tags": []
          }
        }
      ]
    },
    {
      "cell_type": "code",
      "metadata": {
        "id": "r1_T5XRy76Fc"
      },
      "source": [
        "# Open AI gym\n",
        "import gym \n",
        "from gym import logger as gymlogger\n",
        "from gym.wrappers import Monitor\n",
        "gymlogger.set_level(40) #error only\n",
        "import math\n",
        "import random\n",
        "import glob\n",
        "import io\n",
        "import base64\n",
        "from IPython.display import HTML\n",
        "from IPython import display as ipythondisplay"
      ],
      "execution_count": null,
      "outputs": []
    },
    {
      "cell_type": "code",
      "metadata": {
        "id": "7eKBRmhhTKMg",
        "colab": {
          "base_uri": "https://localhost:8080/",
          "height": 34
        },
        "outputId": "1d0537d7-893f-4630-85dd-8719fe593f73"
      },
      "source": [
        "from pyvirtualdisplay import Display\n",
        "display = Display(visible=0, size=(2880, 1800))\n",
        "display.start()"
      ],
      "execution_count": null,
      "outputs": [
        {
          "output_type": "execute_result",
          "data": {
            "text/plain": [
              "<pyvirtualdisplay.display.Display at 0x7f7f6e7aaa20>"
            ]
          },
          "metadata": {
            "tags": []
          },
          "execution_count": 5
        }
      ]
    },
    {
      "cell_type": "markdown",
      "metadata": {
        "id": "DjJTzesPaXhZ"
      },
      "source": [
        "The function below is needed to display the video. I slightly modified it from the original one (that you can in the guide I linked above) to avoid the infinite repetition loop of the video."
      ]
    },
    {
      "cell_type": "code",
      "metadata": {
        "id": "8iYHI6Y0TOqW"
      },
      "source": [
        "\"\"\"\n",
        "Utility functions to enable video recording of gym environment and displaying it\n",
        "To enable video, just do \"env = wrap_env(env)\"\"\n",
        "\"\"\"\n",
        "\n",
        "def show_video():\n",
        "  mp4list = glob.glob('video/*.mp4')\n",
        "  if len(mp4list) > 0:\n",
        "    mp4 = mp4list[0]\n",
        "    video = io.open(mp4, 'r+b').read()\n",
        "    encoded = base64.b64encode(video)\n",
        "    ipythondisplay.display(HTML(data='''<video alt=\"test\" autoplay \n",
        "                loop controls style=\"height: 400px;\">\n",
        "                <source src=\"data:video/mp4;base64,{0}\" type=\"video/mp4\" />\n",
        "             </video>'''.format(encoded.decode('ascii'))))\n",
        "  else: \n",
        "    print(\"Could not find video\")\n",
        "    \n",
        "\n",
        "def wrap_env(env):\n",
        "  env = Monitor(env, './video', force=True)\n",
        "  return env"
      ],
      "execution_count": null,
      "outputs": []
    },
    {
      "cell_type": "markdown",
      "metadata": {
        "id": "TmcRO58V082j"
      },
      "source": [
        "## OpenAI Gym Cartpole"
      ]
    },
    {
      "cell_type": "markdown",
      "metadata": {
        "id": "tSUaokAx1res"
      },
      "source": [
        "The Cartpole problem is a discrete control problem where we try to keep the pole vertical by moving the cart below it. \n",
        "\n",
        "Upon loading the environment, we launch a simulation where the agent chooses at random from the action sample space the next action. Finally, we show the video of the result. What happens is that the problem is considered unsolved (= game over) if the angle between pole and the line orthogonal to the cart axis is larger than a threshold. The parameter `done` specifies when the experiment is over."
      ]
    },
    {
      "cell_type": "code",
      "metadata": {
        "id": "p-MSpyS91rJ1"
      },
      "source": [
        "# Load the environment and start\n",
        "env = wrap_env(gym.make(\"CartPole-v0\"))"
      ],
      "execution_count": null,
      "outputs": []
    },
    {
      "cell_type": "code",
      "metadata": {
        "id": "30567suH547l"
      },
      "source": [
        "observation = env.reset()\n",
        "\n",
        "while True:\n",
        "  \n",
        "    env.render()\n",
        "    \n",
        "    action = env.action_space.sample() \n",
        "         \n",
        "    observation, reward, done, info = env.step(action) \n",
        "   \n",
        "    if done: \n",
        "      break;\n",
        "            \n",
        "env.close()"
      ],
      "execution_count": null,
      "outputs": []
    },
    {
      "cell_type": "code",
      "metadata": {
        "id": "GdRbmthjFCRm",
        "colab": {
          "base_uri": "https://localhost:8080/",
          "height": 421
        },
        "outputId": "d1347855-e494-42c6-9ff2-f2c756d0f917"
      },
      "source": [
        "show_video()"
      ],
      "execution_count": null,
      "outputs": [
        {
          "output_type": "display_data",
          "data": {
            "text/html": [
              "<video alt=\"test\" autoplay \n",
              "                loop controls style=\"height: 400px;\">\n",
              "                <source src=\"data:video/mp4;base64,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\" type=\"video/mp4\" />\n",
              "             </video>"
            ],
            "text/plain": [
              "<IPython.core.display.HTML object>"
            ]
          },
          "metadata": {
            "tags": []
          }
        }
      ]
    },
    {
      "cell_type": "markdown",
      "metadata": {
        "id": "nEzb9PZkzTt8"
      },
      "source": [
        "To better understand the inputs and outputs of the environment, let consider the action space and the observation space."
      ]
    },
    {
      "cell_type": "markdown",
      "metadata": {
        "id": "ZNlZX6u4zjwj"
      },
      "source": [
        "The action space is of type `Discrete(n)` where `n` is the number of actions. This is equivalent to the discrete set $\\{ 0, 1, 2, \\dotsc, n-1 \\}$."
      ]
    },
    {
      "cell_type": "code",
      "metadata": {
        "id": "zdgSbUzSzdPr",
        "colab": {
          "base_uri": "https://localhost:8080/",
          "height": 34
        },
        "outputId": "e4f6c07e-b393-4af4-b082-de160f8b7cb4"
      },
      "source": [
        "env.action_space"
      ],
      "execution_count": null,
      "outputs": [
        {
          "output_type": "execute_result",
          "data": {
            "text/plain": [
              "Discrete(2)"
            ]
          },
          "metadata": {
            "tags": []
          },
          "execution_count": 10
        }
      ]
    },
    {
      "cell_type": "markdown",
      "metadata": {
        "id": "0YpIgO8Hz0--"
      },
      "source": [
        "The observation space is of type `Box(n)`, which means that it is the Cartesian product of `n` intervals."
      ]
    },
    {
      "cell_type": "code",
      "metadata": {
        "id": "elLLObLuzgoa",
        "colab": {
          "base_uri": "https://localhost:8080/",
          "height": 34
        },
        "outputId": "84feacad-8314-4b48-9163-9a6443af1504"
      },
      "source": [
        "env.observation_space"
      ],
      "execution_count": null,
      "outputs": [
        {
          "output_type": "execute_result",
          "data": {
            "text/plain": [
              "Box(4,)"
            ]
          },
          "metadata": {
            "tags": []
          },
          "execution_count": 11
        }
      ]
    },
    {
      "cell_type": "code",
      "metadata": {
        "id": "Yom-orP80AUU",
        "colab": {
          "base_uri": "https://localhost:8080/",
          "height": 85
        },
        "outputId": "2c26d809-c7a7-4223-93d2-1f5db4eff6a8"
      },
      "source": [
        "[env.observation_space.low, env.observation_space.high]"
      ],
      "execution_count": null,
      "outputs": [
        {
          "output_type": "execute_result",
          "data": {
            "text/plain": [
              "[array([-4.8000002e+00, -3.4028235e+38, -4.1887903e-01, -3.4028235e+38],\n",
              "       dtype=float32),\n",
              " array([4.8000002e+00, 3.4028235e+38, 4.1887903e-01, 3.4028235e+38],\n",
              "       dtype=float32)]"
            ]
          },
          "metadata": {
            "tags": []
          },
          "execution_count": 12
        }
      ]
    },
    {
      "cell_type": "markdown",
      "metadata": {
        "id": "AUmxgfLF0dYK"
      },
      "source": [
        "When we make a step in the environment, the feedback that we get includes the observation:"
      ]
    },
    {
      "cell_type": "code",
      "metadata": {
        "id": "DGJOQdmc09kT",
        "colab": {
          "base_uri": "https://localhost:8080/",
          "height": 34
        },
        "outputId": "cca496a2-f883-4231-9f94-84fe2614e97d"
      },
      "source": [
        "#env = gym.make('CartPole-v0')\n",
        "# env = Monitor(env, './video', force=True)\n",
        "env.reset()\n",
        "\n",
        "obs, r, done, _ = env.step(0)\n",
        "print(obs)"
      ],
      "execution_count": null,
      "outputs": [
        {
          "output_type": "stream",
          "text": [
            "[ 0.03973992 -0.23932073  0.0346357   0.31406689]\n"
          ],
          "name": "stdout"
        }
      ]
    },
    {
      "cell_type": "markdown",
      "metadata": {
        "id": "BZeWmTZf1Emo"
      },
      "source": [
        "## Deep Q Network\n",
        "\n",
        "Here we define a class `DQN` that implements the agent's behavior. \n",
        "\n",
        "At a high level, the deep Q-network tries to fit the Q-function, which estimates the future reward (discounted at the current epoch) for a given state and action pair:\n",
        "\n",
        "$$ Q(s, a) := \\mathbf{E}[R_t] $$\n",
        "\n",
        "with $R_t:= r_t + \\gamma r_{t+1} + \\gamma^2 r_{t+2} + \\cdots$, $r_t$ being the reward at time $t$. Why do we want to estimate $Q$? Suppose to know $Q(s, a)$. Then we can infer the action that maximizes the future discounted return given the state we are in right now:\n",
        "\n",
        "$$ a^* := \\arg\\max Q(s, a). $$\n",
        "\n",
        "This is our policy, i.e. the algorithm that decides what action to take: $\\pi^*(s):= a^*$.\n",
        "\n",
        "The problem is that we don't know $Q$. However, Bellman's equation is what helps us. To be self-contained, let's just observe that the following equation holds by the definition of $Q(s, a)$:\n",
        "\n",
        "$$ Q(s_t, a_t) = r_t + \\gamma Q(s_{t+1}, a_{t+1}). $$\n",
        "\n",
        "By formally taking the maximum over $a_{t+1}$, we get:\n",
        "\n",
        "$$ Q(s_t, a_t) = r_t + \\gamma Q(s_{t+1}, \\pi^*(s_{t+1})). $$\n",
        "\n",
        "This is true for the optimum policy $\\pi^*$, and so we can just try to learn $Q$ by minimizing the loss function\n",
        "\n",
        "$$ \\mathcal{L} = \\left[ Q(s_t, a_t) - \\left(r_t + \\gamma Q(s_{t+1}, \\pi^*(s_{t+1}))\\right)\\right]^2. $$\n",
        "\n",
        "Other loss functions are possible of course. \n",
        "\n",
        "Below we have two implementations. The first one uses two networks, one to fit the term $Q(s_t, a_t)$ and another to fit the term $Q(s_{t+1}, \\pi^*(s_{t+1}))$. The second one uses just one network to fit both simultaneously: It is deemed to be unstable, but we'll find it converges, at least in this example. In any case, these are just implementation details."
      ]
    },
    {
      "cell_type": "code",
      "metadata": {
        "id": "2RtbkBQe7vs5"
      },
      "source": [
        "# Deep Q Network class\n",
        "class DQN_2:\n",
        "  def __init__(self, A, gamma, dim_state_space, n_steps_in_memory, batch_size):\n",
        "    self.A = A  # set of actions\n",
        "    self.gamma = gamma  # discount rate\n",
        "    self.eps_explore = 1  # exploration probability\n",
        "    self.dim_state_space = dim_state_space\n",
        "    self.n_actions = len(A)\n",
        "    self.memory = list()\n",
        "    self.batch_size = batch_size\n",
        "    self.model = self._build_model()\n",
        "    \n",
        "    # Generate target_model and set weights as model\n",
        "    self.target_model = self._build_model()\n",
        "    self.target_model.trainable = False\n",
        "    self.update_target()\n",
        "\n",
        "  def _build_model(self, n_hidden_1=None, n_hidden_2=None):\n",
        "    \n",
        "    if n_hidden_1 == None:\n",
        "      n_hidden_1 = 6 * self.dim_state_space\n",
        "      \n",
        "    if n_hidden_2 == None:\n",
        "      n_hidden_2 = 6 * self.dim_state_space\n",
        "\n",
        "    model = tf.keras.Sequential()\n",
        "    model.add(tf.keras.layers.Dense(n_hidden_1, \n",
        "                                    activation=tf.nn.elu, \n",
        "                                    input_dim=self.dim_state_space))  # input\n",
        "    model.add(tf.keras.layers.Dense(n_hidden_2, \n",
        "                                    activation=tf.nn.elu))\n",
        "    model.add(tf.keras.layers.Dense(self.n_actions,\n",
        "                                    activation='linear'))  # output\n",
        "    model.compile(optimizer=tf.keras.optimizers.Adam(learning_rate=0.005), loss='mse')\n",
        "    # model.compile(optimizer=tf.keras.optimizers.SGD(learning_rate=0.005), loss='mse')\n",
        "    \n",
        "    return model\n",
        "    \n",
        "  def update_target(self):\n",
        "    self.target_model.set_weights(self.model.get_weights())\n",
        "\n",
        "  def remember(self, s, a, r, s_, done):\n",
        "    self.memory.append([s, a, r, s_, done])\n",
        "\n",
        "  def forget(self):\n",
        "    self.memory.pop(0)\n",
        "    \n",
        "  def replay_batch(self):\n",
        "    batch_size = min(self.batch_size, len(self.memory))\n",
        "    minibatch = random.sample(self.memory, batch_size)\n",
        "    \n",
        "    s, a, r, s_, done = zip(*minibatch)\n",
        "    s = np.concatenate(s)\n",
        "    s_ = np.concatenate(s_)\n",
        "    q = self.model.predict(s)\n",
        "    q_ = self.target_model.predict(s_)\n",
        "    \n",
        "    q_target = r + self.gamma * np.max(q_, axis=1) * np.invert(done)\n",
        "  \n",
        "    q[range(batch_size), a] = q_target\n",
        "    \n",
        "    self.inputs = s\n",
        "    self.outputs = q\n",
        "\n",
        "  def replay(self):\n",
        "    batch_size = min(self.batch_size, len(self.memory))\n",
        "    minibatch = random.sample(self.memory, batch_size)\n",
        "              \n",
        "    inputs = np.zeros((batch_size, self.dim_state_space))\n",
        "    outputs = np.zeros((batch_size, self.n_actions))\n",
        "\n",
        "    i = 0\n",
        "    for s, a, r, s_, done in minibatch:\n",
        "\n",
        "      if done is True:\n",
        "          q_ = r\n",
        "      else:\n",
        "          q_ = r + self.gamma * np.max(self.target_model.predict(s_)[0])\n",
        "\n",
        "      q = self.model.predict(s)[0]  # evaluated at current state\n",
        "      q[a] = q_\n",
        "\n",
        "      inputs[i] = s\n",
        "      outputs[i] = q\n",
        "      i += 1\n",
        "\n",
        "    self.inputs = inputs\n",
        "    self.outputs = outputs\n",
        "\n",
        "  def policy(self, s):\n",
        "    s = np.reshape(s, [1, self.dim_state_space])\n",
        "    \n",
        "    # action selection\n",
        "    if np.random.uniform() < self.eps_explore:  # explore\n",
        "      a = np.random.choice(self.A)\n",
        "    else:  \n",
        "      q = self.model.predict(s)[0]\n",
        "      a = np.argmax(q)\n",
        "\n",
        "    return a\n",
        "\n",
        "  def learn(self, s, a, r, s_, done):\n",
        "    self.remember(s, a, r, s_, done)\n",
        "    self.replay_batch()\n",
        "    self.model.train_on_batch(self.inputs, self.outputs)\n",
        "    self.forget()"
      ],
      "execution_count": null,
      "outputs": []
    },
    {
      "cell_type": "code",
      "metadata": {
        "id": "Jm95tqwCI07P"
      },
      "source": [
        "# Modified Deep Q Network class with one network only\n",
        "class DQN_1:\n",
        "  def __init__(self, A, gamma, dim_state_space, n_steps_in_memory, batch_size):\n",
        "    self.A = A  # set of actions\n",
        "    self.gamma = gamma  # discount rate\n",
        "    self.eps_explore = 1  # initial exploration probability\n",
        "    self.dim_state_space = dim_state_space\n",
        "    self.n_actions = len(A)\n",
        "    # self.memory = n_steps_in_memory * [5 * [None]]\n",
        "    self.memory = list()\n",
        "    self.batch_size = batch_size\n",
        "    self.model = self._build_model()\n",
        "\n",
        "  def _build_model(self, n_hidden_1=None, n_hidden_2=None):\n",
        "    \n",
        "    if n_hidden_1 == None:\n",
        "      n_hidden_1 = 6 * self.dim_state_space\n",
        "      \n",
        "    if n_hidden_2 == None:\n",
        "      n_hidden_2 = 6 * self.dim_state_space\n",
        "\n",
        "    model = tf.keras.Sequential()\n",
        "    model.add(tf.keras.layers.Dense(n_hidden_1, \n",
        "                                    activation=tf.nn.elu, \n",
        "                                    input_dim=self.dim_state_space))  # input\n",
        "    model.add(tf.keras.layers.Dense(n_hidden_2, \n",
        "                                    activation=tf.nn.elu))\n",
        "    model.add(tf.keras.layers.Dense(self.n_actions,\n",
        "                                    activation='linear'))  # output\n",
        "    model.compile(optimizer=tf.keras.optimizers.Adam(learning_rate=0.0025), loss='mse')\n",
        "    # model.compile(optimizer=tf.keras.optimizers.SGD(learning_rate=0.005), loss='mse')\n",
        "    \n",
        "    return model\n",
        "\n",
        "  def remember(self, s, a, r, s_, done):\n",
        "    self.memory.append([s, a, r, s_, done])\n",
        "\n",
        "  def forget(self):\n",
        "    self.memory.pop(0)\n",
        "    \n",
        "  def replay_batch(self):\n",
        "    batch_size = min(self.batch_size, len(self.memory))\n",
        "    minibatch = random.sample(self.memory, batch_size)\n",
        "    \n",
        "    s, a, r, s_, done = zip(*minibatch)\n",
        "    s = np.concatenate(s)\n",
        "    s_ = np.concatenate(s_)\n",
        "\n",
        "    # t_s = tf.convert_to_tensor(s, tf.float32)\n",
        "    # t_s_ = tf.convert_to_tensor(s_, tf.float32)\n",
        "\n",
        "    q = self.model.predict(s)\n",
        "    q_ = self.model.predict(s_)\n",
        "\n",
        "    q_target = r + self.gamma * np.max(q_, axis=1) * np.invert(done)\n",
        "  \n",
        "    q[range(batch_size), a] = q_target\n",
        "    \n",
        "    self.inputs = s\n",
        "    self.outputs = q\n",
        "\n",
        "  def policy(self, s):\n",
        "    s = np.reshape(s, [1, self.dim_state_space])\n",
        "    \n",
        "    # action selection\n",
        "    if np.random.uniform() < self.eps_explore:  # explore\n",
        "      a = np.random.choice(self.A)\n",
        "    else:  \n",
        "      q = self.model.predict(s)[0]\n",
        "      a = np.argmax(q)\n",
        "\n",
        "    return a\n",
        "  \n",
        "  def learn(self, s, a, r, s_, done):\n",
        "    self.remember(s, a, r, s_, done)\n",
        "    self.replay_batch()\n",
        "    self.model.train_on_batch(tf.convert_to_tensor(self.inputs), tf.convert_to_tensor(self.outputs))\n",
        "    self.forget()"
      ],
      "execution_count": null,
      "outputs": []
    },
    {
      "cell_type": "markdown",
      "metadata": {
        "id": "rNfRziCSs1EI"
      },
      "source": [
        "## Training\n",
        "\n",
        "N.B. The default choice is to use `DQN_2`. To use `DQN_1` instead of `DQN_2`, we need to replace it in the code below, and also comment out the line `agent.update_target()`."
      ]
    },
    {
      "cell_type": "code",
      "metadata": {
        "id": "ce3eDMZ0svdS"
      },
      "source": [
        "seed = 0\n",
        "np.random.seed(seed)\n",
        "tf.random.set_seed(seed)\n",
        "\n",
        "# Restart environment\n",
        "# env = Monitor(env, './video', force=True)\n",
        "MAX_REWARD = 200\n",
        "env._max_episode_steps = MAX_REWARD\n",
        "\n",
        "# Parameters\n",
        "gamma = 0.999               # discount\n",
        "batch_size = 16             # batch size needs to be small (remember \"minibatch\")\n",
        "n_batch_in_memory = 32\n",
        "n_steps_in_memory = n_batch_in_memory * batch_size  # number of steps to remember\n",
        "n_episodes = 200\n",
        "eps_explore_min = 0.0001\n",
        "eps_half_life = 30 # episodes\n",
        "streak_target = 7  # after this number of contiguous successes, training stops\n",
        "hist_reward = np.zeros(n_episodes)\n",
        "\n",
        "A = np.arange(env.action_space.n)\n",
        "dim_state_space = env.observation_space.shape[0]\n",
        "\n",
        "# Start training\n",
        "agent = DQN_1(A, gamma, dim_state_space, n_steps_in_memory, batch_size)\n",
        "\n",
        "template = \"\\rEpisode: {:3d}/{:3d} | Steps: {:3.2f}k | Reward: {:3.0f} | Explore: {:.4f} | Num batches: {:3d} | Memory: {:4d} | Duration: {:.2f} s\"\n",
        "\n",
        "# init\n",
        "s = env.reset()\n",
        "s = np.reshape(s, [1, dim_state_space])\n",
        "\n",
        "for _ in range(n_steps_in_memory):\n",
        "  a = agent.policy(s)\n",
        "  s_, r, done, _ = env.step(a)\n",
        "  s_ = np.reshape(s_, [1, dim_state_space])\n",
        "  agent.remember(s, a, r, s_, done)\n",
        "\n",
        "cum_steps = n_steps_in_memory"
      ],
      "execution_count": null,
      "outputs": []
    },
    {
      "cell_type": "code",
      "metadata": {
        "id": "YSIbA89m2X-k",
        "colab": {
          "base_uri": "https://localhost:8080/",
          "height": 34
        },
        "outputId": "dc88ae2c-e355-4902-91ce-56c3f3650a35"
      },
      "source": [
        "# start episodes\n",
        "for e in range(n_episodes):\n",
        "  start_time = datetime.datetime.now()\n",
        "  \n",
        "  agent.eps_explore = max(0.5 ** (e/eps_half_life), eps_explore_min)\n",
        "\n",
        "  s = env.reset()\n",
        "  s = np.reshape(s, [1, dim_state_space])\n",
        "  # s = tf.convert_to_tensor(s, dtype=tf.float32)\n",
        "  \n",
        "  done = False\n",
        "  cum_reward = 0\n",
        "  \n",
        "  while not done:\n",
        "    \n",
        "    a = agent.policy(s)\n",
        "    s_, r, done, _ = env.step(a)\n",
        "    s_ = np.reshape(s_, [1, dim_state_space])\n",
        "\n",
        "    agent.learn(s, a, r, s_, done)\n",
        "    cum_reward += r\n",
        "    \n",
        "    s = s_\n",
        "    cum_steps += 1\n",
        "  \n",
        "  dt = datetime.datetime.now() - start_time\n",
        "  print(template.format(e+1, n_episodes, float(cum_steps/1000), cum_reward, agent.eps_explore, n_batch_in_memory, len(agent.memory), dt.total_seconds()), end='')\n",
        "  \n",
        "  hist_reward[e] = cum_reward\n",
        "  # agent.update_target()\n",
        "  \n",
        "  if e > streak_target and np.mean(hist_reward[e-streak_target:e]) > MAX_REWARD-1:\n",
        "    break\n",
        "            \n",
        "env.close()"
      ],
      "execution_count": null,
      "outputs": [
        {
          "output_type": "stream",
          "text": [
            "Episode: 104/200 | Steps: 4.91k | Reward: 200 | Explore: 0.0926 | Num batches:  32 | Memory:  512 | Duration: 17.33 s"
          ],
          "name": "stdout"
        }
      ]
    },
    {
      "cell_type": "code",
      "metadata": {
        "id": "ffgqpwxbuI7l",
        "colab": {
          "base_uri": "https://localhost:8080/",
          "height": 296
        },
        "outputId": "52feceb4-6f52-4f6f-f4b3-094875abd4a6"
      },
      "source": [
        "plt.plot(hist_reward[0:e], label='Reward')\n",
        "plt.xlabel('Episodes')\n",
        "plt.ylabel('Cumulative reward')\n",
        "plt.tight_layout()\n",
        "plt.show()"
      ],
      "execution_count": null,
      "outputs": [
        {
          "output_type": "display_data",
          "data": {
            "image/png": "[encoded data removed]",
            "text/plain": [
              "<Figure size 432x288 with 1 Axes>"
            ]
          },
          "metadata": {
            "tags": [],
            "image/png": {
              "width": 424,
              "height": 279
            },
            "needs_background": "light"
          }
        }
      ]
    },
    {
      "cell_type": "markdown",
      "metadata": {
        "id": "HY0FXzUK5CY_"
      },
      "source": [
        "Empirical observations:\n",
        "\n",
        "*   Increasing the memory while keeping fixed the batch size slows down learning. This is probably because of the random sampling from the memory. To work well, many examples in the memory should be good, but at the beginning memory is just full of garbage (trial-and-error samples). Therefore, for a long time we try to learn from garbage. An alternative way is not to use random sampling and skew the sampling towards more recent samples. Another alternative is to let the memory grow as the number of episodes grow. Optimal for cartpole seems to be the pair: 32 batches of length 16.\n",
        "*   Increasing the step size is dangerous, even with Adam optimizer (e.g. cartpole does not converge with step = 0.025 but it does converge with step = 0.005).\n",
        "*   Decreasing the discount can speed up learning. \n",
        "*   Decreasing the exploration probability half life too much can be dangerous. There is a tradeoff between how much of the space we need to explore and how fast the algorithm can learn. For example, decreasing the half life below 35 episodes will make the algorithm noisy and unstable (especially if the half life goes down to 20 or below) while increasing it will make the algorithm slow.\n",
        "\n"
      ]
    },
    {
      "cell_type": "markdown",
      "metadata": {
        "id": "tTXgVR0P3ih7"
      },
      "source": [
        "## Trying it"
      ]
    },
    {
      "cell_type": "code",
      "metadata": {
        "id": "JpZLmyG3zlH_",
        "colab": {
          "base_uri": "https://localhost:8080/",
          "height": 34
        },
        "outputId": "446e4e14-75ec-495a-df70-f4dffcaa5dfd"
      },
      "source": [
        "env = wrap_env(gym.make(\"CartPole-v0\"))\n",
        "s = env.reset()\n",
        "s = np.reshape(s, [1, dim_state_space])\n",
        "\n",
        "done = False\n",
        "cum_reward = 0\n",
        "\n",
        "agent.eps_explore = 0\n",
        "\n",
        "while not done:\n",
        "\n",
        "  env.render()\n",
        "  a = agent.policy(s)\n",
        "  s_, r, done, _ = env.step(a)\n",
        "  s_ = np.reshape(s_, [1, dim_state_space])\n",
        "\n",
        "  cum_reward += r\n",
        "\n",
        "  s = s_\n",
        "\n",
        "env.close()\n",
        "\n",
        "print('We got a reward equal to {:.0f}'.format(cum_reward))"
      ],
      "execution_count": null,
      "outputs": [
        {
          "output_type": "stream",
          "text": [
            "We got a reward equal to 200\n"
          ],
          "name": "stdout"
        }
      ]
    },
    {
      "cell_type": "code",
      "metadata": {
        "id": "kD3eMIxZ4m5g",
        "colab": {
          "base_uri": "https://localhost:8080/",
          "height": 421
        },
        "outputId": "c60462f2-0d3b-4227-a762-d4d233b0399f"
      },
      "source": [
        "show_video()"
      ],
      "execution_count": null,
      "outputs": [
        {
          "output_type": "display_data",
          "data": {
            "text/html": [
              "<video alt=\"test\" autoplay \n",
              "                loop controls style=\"height: 400px;\">\n",
              "                <source src=\"data:video/mp4;base64,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\" type=\"video/mp4\" />\n",
              "             </video>"
            ],
            "text/plain": [
              "<IPython.core.display.HTML object>"
            ]
          },
          "metadata": {
            "tags": []
          }
        }
      ]
    },
    {
      "cell_type": "code",
      "metadata": {
        "id": "LJCehNorGfPs"
      },
      "source": [
        ""
      ],
      "execution_count": null,
      "outputs": []
    }
  ]
}